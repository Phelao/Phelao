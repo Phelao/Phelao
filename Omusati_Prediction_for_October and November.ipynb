{
 "cells": [
  {
   "cell_type": "code",
   "execution_count": 1120,
   "id": "9e29f243",
   "metadata": {},
   "outputs": [],
   "source": [
    "import pandas as pd\n",
    "import matplotlib.pyplot as plt\n",
    "from sklearn import linear_model\n",
    "from collections import OrderedDict\n",
    "import pandas as df"
   ]
  },
  {
   "cell_type": "code",
   "execution_count": 1121,
   "id": "20b83ce7",
   "metadata": {},
   "outputs": [
    {
     "data": {
      "text/plain": [
       "(56, 4)"
      ]
     },
     "execution_count": 1121,
     "metadata": {},
     "output_type": "execute_result"
    }
   ],
   "source": [
    "#Prediction for the Cases in Oshikoto November , october \n",
    "df = pd.read_csv(\"covidDataset.csv\")\n",
    "df.shape"
   ]
  },
  {
   "cell_type": "code",
   "execution_count": 1122,
   "id": "65c26f74",
   "metadata": {},
   "outputs": [
    {
     "data": {
      "text/html": [
       "<div>\n",
       "<style scoped>\n",
       "    .dataframe tbody tr th:only-of-type {\n",
       "        vertical-align: middle;\n",
       "    }\n",
       "\n",
       "    .dataframe tbody tr th {\n",
       "        vertical-align: top;\n",
       "    }\n",
       "\n",
       "    .dataframe thead th {\n",
       "        text-align: right;\n",
       "    }\n",
       "</style>\n",
       "<table border=\"1\" class=\"dataframe\">\n",
       "  <thead>\n",
       "    <tr style=\"text-align: right;\">\n",
       "      <th></th>\n",
       "      <th>Months</th>\n",
       "      <th>Regions</th>\n",
       "      <th>Deaths</th>\n",
       "      <th>Cases</th>\n",
       "    </tr>\n",
       "  </thead>\n",
       "  <tbody>\n",
       "    <tr>\n",
       "      <th>0</th>\n",
       "      <td>June</td>\n",
       "      <td>Khomas</td>\n",
       "      <td>171.0</td>\n",
       "      <td>9046</td>\n",
       "    </tr>\n",
       "    <tr>\n",
       "      <th>1</th>\n",
       "      <td>June</td>\n",
       "      <td>Erongo</td>\n",
       "      <td>44.0</td>\n",
       "      <td>2939</td>\n",
       "    </tr>\n",
       "    <tr>\n",
       "      <th>2</th>\n",
       "      <td>June</td>\n",
       "      <td>Oshana</td>\n",
       "      <td>16.0</td>\n",
       "      <td>1234</td>\n",
       "    </tr>\n",
       "    <tr>\n",
       "      <th>3</th>\n",
       "      <td>June</td>\n",
       "      <td>Oshikoto</td>\n",
       "      <td>8.0</td>\n",
       "      <td>547</td>\n",
       "    </tr>\n",
       "    <tr>\n",
       "      <th>4</th>\n",
       "      <td>June</td>\n",
       "      <td>Hardap</td>\n",
       "      <td>3.0</td>\n",
       "      <td>1895</td>\n",
       "    </tr>\n",
       "    <tr>\n",
       "      <th>5</th>\n",
       "      <td>June</td>\n",
       "      <td>Omusati</td>\n",
       "      <td>108.0</td>\n",
       "      <td>1957</td>\n",
       "    </tr>\n",
       "    <tr>\n",
       "      <th>6</th>\n",
       "      <td>June</td>\n",
       "      <td>Otjozondjupa</td>\n",
       "      <td>92.0</td>\n",
       "      <td>2316</td>\n",
       "    </tr>\n",
       "    <tr>\n",
       "      <th>7</th>\n",
       "      <td>June</td>\n",
       "      <td>Omaheke</td>\n",
       "      <td>112.0</td>\n",
       "      <td>613</td>\n",
       "    </tr>\n",
       "    <tr>\n",
       "      <th>8</th>\n",
       "      <td>June</td>\n",
       "      <td>Zambezi</td>\n",
       "      <td>45.0</td>\n",
       "      <td>1330</td>\n",
       "    </tr>\n",
       "    <tr>\n",
       "      <th>9</th>\n",
       "      <td>June</td>\n",
       "      <td>Kavango-West</td>\n",
       "      <td>NaN</td>\n",
       "      <td>258</td>\n",
       "    </tr>\n",
       "    <tr>\n",
       "      <th>10</th>\n",
       "      <td>June</td>\n",
       "      <td>Kavango-East</td>\n",
       "      <td>115.0</td>\n",
       "      <td>1877</td>\n",
       "    </tr>\n",
       "    <tr>\n",
       "      <th>11</th>\n",
       "      <td>June</td>\n",
       "      <td>Ohangwena</td>\n",
       "      <td>38.0</td>\n",
       "      <td>1329</td>\n",
       "    </tr>\n",
       "    <tr>\n",
       "      <th>12</th>\n",
       "      <td>June</td>\n",
       "      <td>Kunene</td>\n",
       "      <td>37.0</td>\n",
       "      <td>1146</td>\n",
       "    </tr>\n",
       "    <tr>\n",
       "      <th>13</th>\n",
       "      <td>June</td>\n",
       "      <td>Karas</td>\n",
       "      <td>44.0</td>\n",
       "      <td>1749</td>\n",
       "    </tr>\n",
       "    <tr>\n",
       "      <th>14</th>\n",
       "      <td>July</td>\n",
       "      <td>Khomas</td>\n",
       "      <td>324.0</td>\n",
       "      <td>4971</td>\n",
       "    </tr>\n",
       "    <tr>\n",
       "      <th>15</th>\n",
       "      <td>July</td>\n",
       "      <td>Erongo</td>\n",
       "      <td>123.0</td>\n",
       "      <td>3567</td>\n",
       "    </tr>\n",
       "    <tr>\n",
       "      <th>16</th>\n",
       "      <td>July</td>\n",
       "      <td>Oshana</td>\n",
       "      <td>209.0</td>\n",
       "      <td>2787</td>\n",
       "    </tr>\n",
       "    <tr>\n",
       "      <th>17</th>\n",
       "      <td>July</td>\n",
       "      <td>Oshikoto</td>\n",
       "      <td>17.0</td>\n",
       "      <td>1942</td>\n",
       "    </tr>\n",
       "    <tr>\n",
       "      <th>18</th>\n",
       "      <td>July</td>\n",
       "      <td>Hardap</td>\n",
       "      <td>NaN</td>\n",
       "      <td>1136</td>\n",
       "    </tr>\n",
       "    <tr>\n",
       "      <th>19</th>\n",
       "      <td>July</td>\n",
       "      <td>Omusati</td>\n",
       "      <td>108.0</td>\n",
       "      <td>1957</td>\n",
       "    </tr>\n",
       "    <tr>\n",
       "      <th>20</th>\n",
       "      <td>July</td>\n",
       "      <td>Otjozondjupa</td>\n",
       "      <td>92.0</td>\n",
       "      <td>2316</td>\n",
       "    </tr>\n",
       "    <tr>\n",
       "      <th>21</th>\n",
       "      <td>July</td>\n",
       "      <td>Omaheke</td>\n",
       "      <td>112.0</td>\n",
       "      <td>613</td>\n",
       "    </tr>\n",
       "    <tr>\n",
       "      <th>22</th>\n",
       "      <td>July</td>\n",
       "      <td>Zambezi</td>\n",
       "      <td>45.0</td>\n",
       "      <td>1330</td>\n",
       "    </tr>\n",
       "    <tr>\n",
       "      <th>23</th>\n",
       "      <td>July</td>\n",
       "      <td>Kavango-West</td>\n",
       "      <td>NaN</td>\n",
       "      <td>258</td>\n",
       "    </tr>\n",
       "    <tr>\n",
       "      <th>24</th>\n",
       "      <td>July</td>\n",
       "      <td>Kavango-East</td>\n",
       "      <td>115.0</td>\n",
       "      <td>1877</td>\n",
       "    </tr>\n",
       "    <tr>\n",
       "      <th>25</th>\n",
       "      <td>July</td>\n",
       "      <td>Ohangwena</td>\n",
       "      <td>38.0</td>\n",
       "      <td>1329</td>\n",
       "    </tr>\n",
       "    <tr>\n",
       "      <th>26</th>\n",
       "      <td>July</td>\n",
       "      <td>Kunene</td>\n",
       "      <td>37.0</td>\n",
       "      <td>1146</td>\n",
       "    </tr>\n",
       "    <tr>\n",
       "      <th>27</th>\n",
       "      <td>July</td>\n",
       "      <td>Karas</td>\n",
       "      <td>44.0</td>\n",
       "      <td>1749</td>\n",
       "    </tr>\n",
       "    <tr>\n",
       "      <th>28</th>\n",
       "      <td>August</td>\n",
       "      <td>Khomas</td>\n",
       "      <td>44.0</td>\n",
       "      <td>590</td>\n",
       "    </tr>\n",
       "    <tr>\n",
       "      <th>29</th>\n",
       "      <td>August</td>\n",
       "      <td>Erongo</td>\n",
       "      <td>22.0</td>\n",
       "      <td>618</td>\n",
       "    </tr>\n",
       "    <tr>\n",
       "      <th>30</th>\n",
       "      <td>August</td>\n",
       "      <td>Oshana</td>\n",
       "      <td>46.0</td>\n",
       "      <td>718</td>\n",
       "    </tr>\n",
       "    <tr>\n",
       "      <th>31</th>\n",
       "      <td>August</td>\n",
       "      <td>Oshikoto</td>\n",
       "      <td>5.0</td>\n",
       "      <td>478</td>\n",
       "    </tr>\n",
       "    <tr>\n",
       "      <th>32</th>\n",
       "      <td>August</td>\n",
       "      <td>Hardap</td>\n",
       "      <td>9.0</td>\n",
       "      <td>130</td>\n",
       "    </tr>\n",
       "    <tr>\n",
       "      <th>33</th>\n",
       "      <td>August</td>\n",
       "      <td>Omusati</td>\n",
       "      <td>65.0</td>\n",
       "      <td>760</td>\n",
       "    </tr>\n",
       "    <tr>\n",
       "      <th>34</th>\n",
       "      <td>August</td>\n",
       "      <td>Otjozondjupa</td>\n",
       "      <td>9.0</td>\n",
       "      <td>346</td>\n",
       "    </tr>\n",
       "    <tr>\n",
       "      <th>35</th>\n",
       "      <td>August</td>\n",
       "      <td>Omaheke</td>\n",
       "      <td>13.0</td>\n",
       "      <td>362</td>\n",
       "    </tr>\n",
       "    <tr>\n",
       "      <th>36</th>\n",
       "      <td>August</td>\n",
       "      <td>Zambezi</td>\n",
       "      <td>23.0</td>\n",
       "      <td>233</td>\n",
       "    </tr>\n",
       "    <tr>\n",
       "      <th>37</th>\n",
       "      <td>August</td>\n",
       "      <td>Kavango-West</td>\n",
       "      <td>9.0</td>\n",
       "      <td>36</td>\n",
       "    </tr>\n",
       "    <tr>\n",
       "      <th>38</th>\n",
       "      <td>August</td>\n",
       "      <td>Kavango-East</td>\n",
       "      <td>12.0</td>\n",
       "      <td>88</td>\n",
       "    </tr>\n",
       "    <tr>\n",
       "      <th>39</th>\n",
       "      <td>August</td>\n",
       "      <td>Ohangwena</td>\n",
       "      <td>39.0</td>\n",
       "      <td>849</td>\n",
       "    </tr>\n",
       "    <tr>\n",
       "      <th>40</th>\n",
       "      <td>August</td>\n",
       "      <td>Kunene</td>\n",
       "      <td>29.0</td>\n",
       "      <td>211</td>\n",
       "    </tr>\n",
       "    <tr>\n",
       "      <th>41</th>\n",
       "      <td>August</td>\n",
       "      <td>Karas</td>\n",
       "      <td>2.0</td>\n",
       "      <td>434</td>\n",
       "    </tr>\n",
       "    <tr>\n",
       "      <th>42</th>\n",
       "      <td>September</td>\n",
       "      <td>Khomas</td>\n",
       "      <td>10.0</td>\n",
       "      <td>319</td>\n",
       "    </tr>\n",
       "    <tr>\n",
       "      <th>43</th>\n",
       "      <td>September</td>\n",
       "      <td>Erongo</td>\n",
       "      <td>5.0</td>\n",
       "      <td>174</td>\n",
       "    </tr>\n",
       "    <tr>\n",
       "      <th>44</th>\n",
       "      <td>September</td>\n",
       "      <td>Oshana</td>\n",
       "      <td>6.0</td>\n",
       "      <td>223</td>\n",
       "    </tr>\n",
       "    <tr>\n",
       "      <th>45</th>\n",
       "      <td>September</td>\n",
       "      <td>Oshikoto</td>\n",
       "      <td>6.0</td>\n",
       "      <td>43</td>\n",
       "    </tr>\n",
       "    <tr>\n",
       "      <th>46</th>\n",
       "      <td>September</td>\n",
       "      <td>Hardap</td>\n",
       "      <td>1.0</td>\n",
       "      <td>54</td>\n",
       "    </tr>\n",
       "    <tr>\n",
       "      <th>47</th>\n",
       "      <td>September</td>\n",
       "      <td>Omusati</td>\n",
       "      <td>15.0</td>\n",
       "      <td>99</td>\n",
       "    </tr>\n",
       "    <tr>\n",
       "      <th>48</th>\n",
       "      <td>September</td>\n",
       "      <td>Otjozondjupa</td>\n",
       "      <td>NaN</td>\n",
       "      <td>92</td>\n",
       "    </tr>\n",
       "    <tr>\n",
       "      <th>49</th>\n",
       "      <td>September</td>\n",
       "      <td>Omaheke</td>\n",
       "      <td>2.0</td>\n",
       "      <td>37</td>\n",
       "    </tr>\n",
       "    <tr>\n",
       "      <th>50</th>\n",
       "      <td>September</td>\n",
       "      <td>Zambezi</td>\n",
       "      <td>2.0</td>\n",
       "      <td>162</td>\n",
       "    </tr>\n",
       "    <tr>\n",
       "      <th>51</th>\n",
       "      <td>September</td>\n",
       "      <td>Kavango-West</td>\n",
       "      <td>NaN</td>\n",
       "      <td>125</td>\n",
       "    </tr>\n",
       "    <tr>\n",
       "      <th>52</th>\n",
       "      <td>September</td>\n",
       "      <td>Kavango-East</td>\n",
       "      <td>16.0</td>\n",
       "      <td>161</td>\n",
       "    </tr>\n",
       "    <tr>\n",
       "      <th>53</th>\n",
       "      <td>September</td>\n",
       "      <td>Ohangwena</td>\n",
       "      <td>15.0</td>\n",
       "      <td>456</td>\n",
       "    </tr>\n",
       "    <tr>\n",
       "      <th>54</th>\n",
       "      <td>September</td>\n",
       "      <td>Kunene</td>\n",
       "      <td>14.0</td>\n",
       "      <td>58</td>\n",
       "    </tr>\n",
       "    <tr>\n",
       "      <th>55</th>\n",
       "      <td>September</td>\n",
       "      <td>Karas</td>\n",
       "      <td>4.0</td>\n",
       "      <td>174</td>\n",
       "    </tr>\n",
       "  </tbody>\n",
       "</table>\n",
       "</div>"
      ],
      "text/plain": [
       "       Months       Regions  Deaths  Cases\n",
       "0        June        Khomas   171.0   9046\n",
       "1        June        Erongo    44.0   2939\n",
       "2        June        Oshana    16.0   1234\n",
       "3        June      Oshikoto     8.0    547\n",
       "4        June        Hardap     3.0   1895\n",
       "5        June       Omusati   108.0   1957\n",
       "6        June  Otjozondjupa    92.0   2316\n",
       "7        June       Omaheke   112.0    613\n",
       "8        June       Zambezi    45.0   1330\n",
       "9        June  Kavango-West     NaN    258\n",
       "10       June  Kavango-East   115.0   1877\n",
       "11       June     Ohangwena    38.0   1329\n",
       "12       June        Kunene    37.0   1146\n",
       "13       June         Karas    44.0   1749\n",
       "14       July        Khomas   324.0   4971\n",
       "15       July        Erongo   123.0   3567\n",
       "16       July        Oshana   209.0   2787\n",
       "17       July      Oshikoto    17.0   1942\n",
       "18       July        Hardap     NaN   1136\n",
       "19       July       Omusati   108.0   1957\n",
       "20       July  Otjozondjupa    92.0   2316\n",
       "21       July       Omaheke   112.0    613\n",
       "22       July       Zambezi    45.0   1330\n",
       "23       July  Kavango-West     NaN    258\n",
       "24       July  Kavango-East   115.0   1877\n",
       "25       July     Ohangwena    38.0   1329\n",
       "26       July        Kunene    37.0   1146\n",
       "27       July         Karas    44.0   1749\n",
       "28     August        Khomas    44.0    590\n",
       "29     August        Erongo    22.0    618\n",
       "30     August        Oshana    46.0    718\n",
       "31     August      Oshikoto     5.0    478\n",
       "32     August        Hardap     9.0    130\n",
       "33     August       Omusati    65.0    760\n",
       "34     August  Otjozondjupa     9.0    346\n",
       "35     August       Omaheke    13.0    362\n",
       "36     August       Zambezi    23.0    233\n",
       "37     August  Kavango-West     9.0     36\n",
       "38     August  Kavango-East    12.0     88\n",
       "39     August     Ohangwena    39.0    849\n",
       "40     August        Kunene    29.0    211\n",
       "41     August         Karas     2.0    434\n",
       "42  September        Khomas    10.0    319\n",
       "43  September        Erongo     5.0    174\n",
       "44  September        Oshana     6.0    223\n",
       "45  September      Oshikoto     6.0     43\n",
       "46  September        Hardap     1.0     54\n",
       "47  September       Omusati    15.0     99\n",
       "48  September  Otjozondjupa     NaN     92\n",
       "49  September       Omaheke     2.0     37\n",
       "50  September       Zambezi     2.0    162\n",
       "51  September  Kavango-West     NaN    125\n",
       "52  September  Kavango-East    16.0    161\n",
       "53  September     Ohangwena    15.0    456\n",
       "54  September        Kunene    14.0     58\n",
       "55  September         Karas     4.0    174"
      ]
     },
     "execution_count": 1122,
     "metadata": {},
     "output_type": "execute_result"
    }
   ],
   "source": [
    "df.head(59)"
   ]
  },
  {
   "cell_type": "code",
   "execution_count": 1123,
   "id": "e7580e0a",
   "metadata": {},
   "outputs": [],
   "source": [
    "df.drop (columns=['Deaths'], inplace=True)\n"
   ]
  },
  {
   "cell_type": "code",
   "execution_count": 1124,
   "id": "40c38940",
   "metadata": {},
   "outputs": [],
   "source": [
    "filt = df['Regions'] == 'Khomas'\n",
    "df.drop(index=df[filt].index, inplace=True)"
   ]
  },
  {
   "cell_type": "code",
   "execution_count": 1125,
   "id": "b3f64ed5",
   "metadata": {},
   "outputs": [],
   "source": [
    "filt = df['Regions'] == 'Erongo'\n",
    "df.drop(index=df[filt].index, inplace=True)"
   ]
  },
  {
   "cell_type": "code",
   "execution_count": 1126,
   "id": "cf440b96",
   "metadata": {},
   "outputs": [],
   "source": [
    "filt = df['Regions'] == 'Hardap'\n",
    "df.drop(index=df[filt].index, inplace=True)"
   ]
  },
  {
   "cell_type": "code",
   "execution_count": 1127,
   "id": "af0afc44",
   "metadata": {},
   "outputs": [],
   "source": [
    "filt = df['Regions'] == 'Oshana'\n",
    "df.drop(index=df[filt].index, inplace=True)\n"
   ]
  },
  {
   "cell_type": "code",
   "execution_count": 1128,
   "id": "b096d920",
   "metadata": {},
   "outputs": [],
   "source": [
    "filt = df['Regions'] == 'Karas'\n",
    "df.drop(index=df[filt].index, inplace=True)"
   ]
  },
  {
   "cell_type": "code",
   "execution_count": 1129,
   "id": "ddfe8ca1",
   "metadata": {},
   "outputs": [],
   "source": [
    "filt = df['Regions'] == 'Otjozondjupa'\n",
    "df.drop(index=df[filt].index, inplace=True)\n"
   ]
  },
  {
   "cell_type": "code",
   "execution_count": 1130,
   "id": "e9ff71a1",
   "metadata": {},
   "outputs": [],
   "source": [
    "filt = df['Regions'] == 'Zambezi'\n",
    "df.drop(index=df[filt].index, inplace=True)\n"
   ]
  },
  {
   "cell_type": "code",
   "execution_count": 1131,
   "id": "3c500bfd",
   "metadata": {},
   "outputs": [],
   "source": [
    "filt = df['Regions'] == 'Omaheke'\n",
    "df.drop(index=df[filt].index, inplace=True)"
   ]
  },
  {
   "cell_type": "code",
   "execution_count": 1132,
   "id": "f2390087",
   "metadata": {},
   "outputs": [],
   "source": [
    "filt = df['Regions'] == 'Kavango-West'\n",
    "df.drop(index=df[filt].index, inplace=True)"
   ]
  },
  {
   "cell_type": "code",
   "execution_count": 1133,
   "id": "82b436b3",
   "metadata": {},
   "outputs": [],
   "source": [
    "filt = df['Regions'] == 'Kavango-East'\n",
    "df.drop(index=df[filt].index, inplace=True)"
   ]
  },
  {
   "cell_type": "code",
   "execution_count": 1134,
   "id": "b1a80579",
   "metadata": {},
   "outputs": [],
   "source": [
    "filt = df['Regions'] == 'Oshikoto'\n",
    "df.drop(index=df[filt].index, inplace=True)"
   ]
  },
  {
   "cell_type": "code",
   "execution_count": 1135,
   "id": "03df5163",
   "metadata": {},
   "outputs": [],
   "source": [
    "filt = df['Regions'] == 'Kunene'\n",
    "df.drop(index=df[filt].index, inplace=True)\n"
   ]
  },
  {
   "cell_type": "code",
   "execution_count": 1136,
   "id": "a915f27a",
   "metadata": {},
   "outputs": [],
   "source": [
    "filt = df['Regions'] == 'Ohangwena'\n",
    "df.drop(index=df[filt].index, inplace=True)"
   ]
  },
  {
   "cell_type": "code",
   "execution_count": 1137,
   "id": "c24ff4dd",
   "metadata": {},
   "outputs": [
    {
     "data": {
      "text/html": [
       "<div>\n",
       "<style scoped>\n",
       "    .dataframe tbody tr th:only-of-type {\n",
       "        vertical-align: middle;\n",
       "    }\n",
       "\n",
       "    .dataframe tbody tr th {\n",
       "        vertical-align: top;\n",
       "    }\n",
       "\n",
       "    .dataframe thead th {\n",
       "        text-align: right;\n",
       "    }\n",
       "</style>\n",
       "<table border=\"1\" class=\"dataframe\">\n",
       "  <thead>\n",
       "    <tr style=\"text-align: right;\">\n",
       "      <th></th>\n",
       "      <th>Months</th>\n",
       "      <th>Regions</th>\n",
       "      <th>Cases</th>\n",
       "    </tr>\n",
       "  </thead>\n",
       "  <tbody>\n",
       "    <tr>\n",
       "      <th>5</th>\n",
       "      <td>June</td>\n",
       "      <td>Omusati</td>\n",
       "      <td>1957</td>\n",
       "    </tr>\n",
       "    <tr>\n",
       "      <th>19</th>\n",
       "      <td>July</td>\n",
       "      <td>Omusati</td>\n",
       "      <td>1957</td>\n",
       "    </tr>\n",
       "    <tr>\n",
       "      <th>33</th>\n",
       "      <td>August</td>\n",
       "      <td>Omusati</td>\n",
       "      <td>760</td>\n",
       "    </tr>\n",
       "    <tr>\n",
       "      <th>47</th>\n",
       "      <td>September</td>\n",
       "      <td>Omusati</td>\n",
       "      <td>99</td>\n",
       "    </tr>\n",
       "  </tbody>\n",
       "</table>\n",
       "</div>"
      ],
      "text/plain": [
       "       Months  Regions  Cases\n",
       "5        June  Omusati   1957\n",
       "19       July  Omusati   1957\n",
       "33     August  Omusati    760\n",
       "47  September  Omusati     99"
      ]
     },
     "execution_count": 1137,
     "metadata": {},
     "output_type": "execute_result"
    }
   ],
   "source": [
    "df\n"
   ]
  },
  {
   "cell_type": "code",
   "execution_count": 1138,
   "id": "9fc4e4be",
   "metadata": {},
   "outputs": [
    {
     "data": {
      "text/html": [
       "<div>\n",
       "<style scoped>\n",
       "    .dataframe tbody tr th:only-of-type {\n",
       "        vertical-align: middle;\n",
       "    }\n",
       "\n",
       "    .dataframe tbody tr th {\n",
       "        vertical-align: top;\n",
       "    }\n",
       "\n",
       "    .dataframe thead th {\n",
       "        text-align: right;\n",
       "    }\n",
       "</style>\n",
       "<table border=\"1\" class=\"dataframe\">\n",
       "  <thead>\n",
       "    <tr style=\"text-align: right;\">\n",
       "      <th></th>\n",
       "      <th>Cases</th>\n",
       "    </tr>\n",
       "  </thead>\n",
       "  <tbody>\n",
       "    <tr>\n",
       "      <th>5</th>\n",
       "      <td>1957</td>\n",
       "    </tr>\n",
       "    <tr>\n",
       "      <th>19</th>\n",
       "      <td>1957</td>\n",
       "    </tr>\n",
       "    <tr>\n",
       "      <th>33</th>\n",
       "      <td>760</td>\n",
       "    </tr>\n",
       "    <tr>\n",
       "      <th>47</th>\n",
       "      <td>99</td>\n",
       "    </tr>\n",
       "  </tbody>\n",
       "</table>\n",
       "</div>"
      ],
      "text/plain": [
       "    Cases\n",
       "5    1957\n",
       "19   1957\n",
       "33    760\n",
       "47     99"
      ]
     },
     "execution_count": 1138,
     "metadata": {},
     "output_type": "execute_result"
    }
   ],
   "source": [
    "df.drop(columns=['Months','Regions'])\n"
   ]
  },
  {
   "cell_type": "code",
   "execution_count": 1139,
   "id": "acd01bd1",
   "metadata": {},
   "outputs": [],
   "source": [
    "import pandas as pd\n",
    "import matplotlib.pyplot as plt\n",
    "from sklearn import linear_model\n"
   ]
  },
  {
   "cell_type": "code",
   "execution_count": 1145,
   "id": "cef298d7",
   "metadata": {},
   "outputs": [
    {
     "data": {
      "text/html": [
       "<div>\n",
       "<style scoped>\n",
       "    .dataframe tbody tr th:only-of-type {\n",
       "        vertical-align: middle;\n",
       "    }\n",
       "\n",
       "    .dataframe tbody tr th {\n",
       "        vertical-align: top;\n",
       "    }\n",
       "\n",
       "    .dataframe thead th {\n",
       "        text-align: right;\n",
       "    }\n",
       "</style>\n",
       "<table border=\"1\" class=\"dataframe\">\n",
       "  <thead>\n",
       "    <tr style=\"text-align: right;\">\n",
       "      <th></th>\n",
       "      <th>Cases</th>\n",
       "    </tr>\n",
       "  </thead>\n",
       "  <tbody>\n",
       "    <tr>\n",
       "      <th>0</th>\n",
       "      <td>1957</td>\n",
       "    </tr>\n",
       "    <tr>\n",
       "      <th>1</th>\n",
       "      <td>1957</td>\n",
       "    </tr>\n",
       "    <tr>\n",
       "      <th>2</th>\n",
       "      <td>760</td>\n",
       "    </tr>\n",
       "    <tr>\n",
       "      <th>3</th>\n",
       "      <td>99</td>\n",
       "    </tr>\n",
       "  </tbody>\n",
       "</table>\n",
       "</div>"
      ],
      "text/plain": [
       "  Cases\n",
       "0  1957\n",
       "1  1957\n",
       "2   760\n",
       "3    99"
      ]
     },
     "execution_count": 1145,
     "metadata": {},
     "output_type": "execute_result"
    }
   ],
   "source": [
    "import pandas as pd\n",
    "import matplotlib.pyplot as plt\n",
    "from sklearn import linear_model\n",
    "\n",
    "data = {'Cases':['1957','1957','760','99']}\n",
    "\n",
    "df =pd.DataFrame(data)\n",
    "df"
   ]
  },
  {
   "cell_type": "code",
   "execution_count": 1146,
   "id": "9206f596",
   "metadata": {},
   "outputs": [],
   "source": [
    "depended_x = ['17','18','19','20']\n",
    "df['depended_x']= depended_x"
   ]
  },
  {
   "cell_type": "code",
   "execution_count": 1147,
   "id": "e81e1747",
   "metadata": {},
   "outputs": [
    {
     "data": {
      "text/html": [
       "<div>\n",
       "<style scoped>\n",
       "    .dataframe tbody tr th:only-of-type {\n",
       "        vertical-align: middle;\n",
       "    }\n",
       "\n",
       "    .dataframe tbody tr th {\n",
       "        vertical-align: top;\n",
       "    }\n",
       "\n",
       "    .dataframe thead th {\n",
       "        text-align: right;\n",
       "    }\n",
       "</style>\n",
       "<table border=\"1\" class=\"dataframe\">\n",
       "  <thead>\n",
       "    <tr style=\"text-align: right;\">\n",
       "      <th></th>\n",
       "      <th>Cases</th>\n",
       "      <th>depended_x</th>\n",
       "    </tr>\n",
       "  </thead>\n",
       "  <tbody>\n",
       "    <tr>\n",
       "      <th>0</th>\n",
       "      <td>1957</td>\n",
       "      <td>17</td>\n",
       "    </tr>\n",
       "    <tr>\n",
       "      <th>1</th>\n",
       "      <td>1957</td>\n",
       "      <td>18</td>\n",
       "    </tr>\n",
       "    <tr>\n",
       "      <th>2</th>\n",
       "      <td>760</td>\n",
       "      <td>19</td>\n",
       "    </tr>\n",
       "    <tr>\n",
       "      <th>3</th>\n",
       "      <td>99</td>\n",
       "      <td>20</td>\n",
       "    </tr>\n",
       "  </tbody>\n",
       "</table>\n",
       "</div>"
      ],
      "text/plain": [
       "  Cases depended_x\n",
       "0  1957         17\n",
       "1  1957         18\n",
       "2   760         19\n",
       "3    99         20"
      ]
     },
     "execution_count": 1147,
     "metadata": {},
     "output_type": "execute_result"
    }
   ],
   "source": [
    "df"
   ]
  },
  {
   "cell_type": "code",
   "execution_count": 1148,
   "id": "6de29612",
   "metadata": {},
   "outputs": [
    {
     "data": {
      "text/plain": [
       "(4, 2)"
      ]
     },
     "execution_count": 1148,
     "metadata": {},
     "output_type": "execute_result"
    }
   ],
   "source": [
    "df.shape"
   ]
  },
  {
   "cell_type": "code",
   "execution_count": 1149,
   "id": "e38f9660",
   "metadata": {},
   "outputs": [
    {
     "data": {
      "image/png": "[encoded data removed]",
      "text/plain": [
       "<Figure size 432x288 with 1 Axes>"
      ]
     },
     "metadata": {
      "needs_background": "light"
     },
     "output_type": "display_data"
    }
   ],
   "source": [
    "import matplotlib.pyplot as plt\n",
    "df.plot(kind='scatter', x='depended_x', y='Cases')\n",
    "plt.show()\n"
   ]
  },
  {
   "cell_type": "code",
   "execution_count": 1150,
   "id": "1d7c8569",
   "metadata": {},
   "outputs": [
    {
     "data": {
      "text/html": [
       "<div>\n",
       "<style scoped>\n",
       "    .dataframe tbody tr th:only-of-type {\n",
       "        vertical-align: middle;\n",
       "    }\n",
       "\n",
       "    .dataframe tbody tr th {\n",
       "        vertical-align: top;\n",
       "    }\n",
       "\n",
       "    .dataframe thead th {\n",
       "        text-align: right;\n",
       "    }\n",
       "</style>\n",
       "<table border=\"1\" class=\"dataframe\">\n",
       "  <thead>\n",
       "    <tr style=\"text-align: right;\">\n",
       "      <th></th>\n",
       "    </tr>\n",
       "  </thead>\n",
       "  <tbody>\n",
       "  </tbody>\n",
       "</table>\n",
       "</div>"
      ],
      "text/plain": [
       "Empty DataFrame\n",
       "Columns: []\n",
       "Index: []"
      ]
     },
     "execution_count": 1150,
     "metadata": {},
     "output_type": "execute_result"
    }
   ],
   "source": [
    "df.corr()"
   ]
  },
  {
   "cell_type": "code",
   "execution_count": 1151,
   "id": "b9953da2",
   "metadata": {},
   "outputs": [],
   "source": [
    "\n",
    "depended_x=pd.DataFrame(df['depended_x'])\n",
    "Cases=pd.DataFrame(df['Cases'])"
   ]
  },
  {
   "cell_type": "code",
   "execution_count": 1152,
   "id": "4d150829",
   "metadata": {},
   "outputs": [
    {
     "data": {
      "text/html": [
       "<div>\n",
       "<style scoped>\n",
       "    .dataframe tbody tr th:only-of-type {\n",
       "        vertical-align: middle;\n",
       "    }\n",
       "\n",
       "    .dataframe tbody tr th {\n",
       "        vertical-align: top;\n",
       "    }\n",
       "\n",
       "    .dataframe thead th {\n",
       "        text-align: right;\n",
       "    }\n",
       "</style>\n",
       "<table border=\"1\" class=\"dataframe\">\n",
       "  <thead>\n",
       "    <tr style=\"text-align: right;\">\n",
       "      <th></th>\n",
       "      <th>depended_x</th>\n",
       "    </tr>\n",
       "  </thead>\n",
       "  <tbody>\n",
       "    <tr>\n",
       "      <th>0</th>\n",
       "      <td>17</td>\n",
       "    </tr>\n",
       "    <tr>\n",
       "      <th>1</th>\n",
       "      <td>18</td>\n",
       "    </tr>\n",
       "    <tr>\n",
       "      <th>2</th>\n",
       "      <td>19</td>\n",
       "    </tr>\n",
       "    <tr>\n",
       "      <th>3</th>\n",
       "      <td>20</td>\n",
       "    </tr>\n",
       "  </tbody>\n",
       "</table>\n",
       "</div>"
      ],
      "text/plain": [
       "  depended_x\n",
       "0         17\n",
       "1         18\n",
       "2         19\n",
       "3         20"
      ]
     },
     "execution_count": 1152,
     "metadata": {},
     "output_type": "execute_result"
    }
   ],
   "source": [
    "depended_x"
   ]
  },
  {
   "cell_type": "code",
   "execution_count": 1153,
   "id": "94bea445",
   "metadata": {},
   "outputs": [],
   "source": [
    "lm= linear_model.LinearRegression()\n",
    "model=lm.fit(depended_x, Cases)"
   ]
  },
  {
   "cell_type": "code",
   "execution_count": 1154,
   "id": "4683a314",
   "metadata": {},
   "outputs": [
    {
     "data": {
      "text/plain": [
       "array([[-677.1]])"
      ]
     },
     "execution_count": 1154,
     "metadata": {},
     "output_type": "execute_result"
    }
   ],
   "source": [
    "model.coef_"
   ]
  },
  {
   "cell_type": "code",
   "execution_count": 1155,
   "id": "82e1079d",
   "metadata": {},
   "outputs": [
    {
     "data": {
      "text/plain": [
       "array([13719.6])"
      ]
     },
     "execution_count": 1155,
     "metadata": {},
     "output_type": "execute_result"
    }
   ],
   "source": [
    "model.intercept_"
   ]
  },
  {
   "cell_type": "code",
   "execution_count": 1156,
   "id": "07f62445",
   "metadata": {},
   "outputs": [
    {
     "data": {
      "text/plain": [
       "0.8983450259516461"
      ]
     },
     "execution_count": 1156,
     "metadata": {},
     "output_type": "execute_result"
    }
   ],
   "source": [
    "model.score(depended_x, Cases) #EVALUATE THE MODEL"
   ]
  },
  {
   "cell_type": "code",
   "execution_count": 1157,
   "id": "4ca3bfb4",
   "metadata": {},
   "outputs": [
    {
     "data": {
      "text/plain": [
       "array([[-499.5]])"
      ]
     },
     "execution_count": 1157,
     "metadata": {},
     "output_type": "execute_result"
    }
   ],
   "source": [
    "#predict new value (Cases) for depended_x which is October\n",
    "Depended_new=21\n",
    "Cases_predict=model.predict([[Depended_new]])\n",
    "Cases_predict\n",
    "\n",
    "\n"
   ]
  },
  {
   "cell_type": "code",
   "execution_count": 1158,
   "id": "eb870054",
   "metadata": {},
   "outputs": [
    {
     "data": {
      "text/plain": [
       "array([[-1176.6]])"
      ]
     },
     "execution_count": 1158,
     "metadata": {},
     "output_type": "execute_result"
    }
   ],
   "source": [
    "#predict new value (Cases) for depended_x which is November\n",
    "Depended_new=22\n",
    "Cases_predict=model.predict([[Depended_new]])\n",
    "Cases_predict"
   ]
  },
  {
   "cell_type": "code",
   "execution_count": null,
   "id": "ee6fd112",
   "metadata": {},
   "outputs": [],
   "source": [
    "#Predict Covid Deaths in Omusati for October and November"
   ]
  },
  {
   "cell_type": "code",
   "execution_count": 1173,
   "id": "5a790d9b",
   "metadata": {},
   "outputs": [],
   "source": [
    "import pandas as pd\n",
    "import matplotlib.pyplot as plt\n",
    "from sklearn import linear_model\n",
    "from collections import OrderedDict\n",
    "import pandas as df"
   ]
  },
  {
   "cell_type": "code",
   "execution_count": 1174,
   "id": "d2b0d8c1",
   "metadata": {},
   "outputs": [
    {
     "data": {
      "text/plain": [
       "(56, 4)"
      ]
     },
     "execution_count": 1174,
     "metadata": {},
     "output_type": "execute_result"
    }
   ],
   "source": [
    "df = pd.read_csv(\"covidDataset.csv\")\n",
    "df.shape"
   ]
  },
  {
   "cell_type": "code",
   "execution_count": 1175,
   "id": "4382aede",
   "metadata": {},
   "outputs": [
    {
     "data": {
      "text/html": [
       "<div>\n",
       "<style scoped>\n",
       "    .dataframe tbody tr th:only-of-type {\n",
       "        vertical-align: middle;\n",
       "    }\n",
       "\n",
       "    .dataframe tbody tr th {\n",
       "        vertical-align: top;\n",
       "    }\n",
       "\n",
       "    .dataframe thead th {\n",
       "        text-align: right;\n",
       "    }\n",
       "</style>\n",
       "<table border=\"1\" class=\"dataframe\">\n",
       "  <thead>\n",
       "    <tr style=\"text-align: right;\">\n",
       "      <th></th>\n",
       "      <th>Months</th>\n",
       "      <th>Regions</th>\n",
       "      <th>Deaths</th>\n",
       "      <th>Cases</th>\n",
       "    </tr>\n",
       "  </thead>\n",
       "  <tbody>\n",
       "    <tr>\n",
       "      <th>0</th>\n",
       "      <td>June</td>\n",
       "      <td>Khomas</td>\n",
       "      <td>171.0</td>\n",
       "      <td>9046</td>\n",
       "    </tr>\n",
       "    <tr>\n",
       "      <th>1</th>\n",
       "      <td>June</td>\n",
       "      <td>Erongo</td>\n",
       "      <td>44.0</td>\n",
       "      <td>2939</td>\n",
       "    </tr>\n",
       "    <tr>\n",
       "      <th>2</th>\n",
       "      <td>June</td>\n",
       "      <td>Oshana</td>\n",
       "      <td>16.0</td>\n",
       "      <td>1234</td>\n",
       "    </tr>\n",
       "    <tr>\n",
       "      <th>3</th>\n",
       "      <td>June</td>\n",
       "      <td>Oshikoto</td>\n",
       "      <td>8.0</td>\n",
       "      <td>547</td>\n",
       "    </tr>\n",
       "    <tr>\n",
       "      <th>4</th>\n",
       "      <td>June</td>\n",
       "      <td>Hardap</td>\n",
       "      <td>3.0</td>\n",
       "      <td>1895</td>\n",
       "    </tr>\n",
       "    <tr>\n",
       "      <th>5</th>\n",
       "      <td>June</td>\n",
       "      <td>Omusati</td>\n",
       "      <td>108.0</td>\n",
       "      <td>1957</td>\n",
       "    </tr>\n",
       "    <tr>\n",
       "      <th>6</th>\n",
       "      <td>June</td>\n",
       "      <td>Otjozondjupa</td>\n",
       "      <td>92.0</td>\n",
       "      <td>2316</td>\n",
       "    </tr>\n",
       "    <tr>\n",
       "      <th>7</th>\n",
       "      <td>June</td>\n",
       "      <td>Omaheke</td>\n",
       "      <td>112.0</td>\n",
       "      <td>613</td>\n",
       "    </tr>\n",
       "    <tr>\n",
       "      <th>8</th>\n",
       "      <td>June</td>\n",
       "      <td>Zambezi</td>\n",
       "      <td>45.0</td>\n",
       "      <td>1330</td>\n",
       "    </tr>\n",
       "    <tr>\n",
       "      <th>9</th>\n",
       "      <td>June</td>\n",
       "      <td>Kavango-West</td>\n",
       "      <td>NaN</td>\n",
       "      <td>258</td>\n",
       "    </tr>\n",
       "    <tr>\n",
       "      <th>10</th>\n",
       "      <td>June</td>\n",
       "      <td>Kavango-East</td>\n",
       "      <td>115.0</td>\n",
       "      <td>1877</td>\n",
       "    </tr>\n",
       "    <tr>\n",
       "      <th>11</th>\n",
       "      <td>June</td>\n",
       "      <td>Ohangwena</td>\n",
       "      <td>38.0</td>\n",
       "      <td>1329</td>\n",
       "    </tr>\n",
       "    <tr>\n",
       "      <th>12</th>\n",
       "      <td>June</td>\n",
       "      <td>Kunene</td>\n",
       "      <td>37.0</td>\n",
       "      <td>1146</td>\n",
       "    </tr>\n",
       "    <tr>\n",
       "      <th>13</th>\n",
       "      <td>June</td>\n",
       "      <td>Karas</td>\n",
       "      <td>44.0</td>\n",
       "      <td>1749</td>\n",
       "    </tr>\n",
       "    <tr>\n",
       "      <th>14</th>\n",
       "      <td>July</td>\n",
       "      <td>Khomas</td>\n",
       "      <td>324.0</td>\n",
       "      <td>4971</td>\n",
       "    </tr>\n",
       "    <tr>\n",
       "      <th>15</th>\n",
       "      <td>July</td>\n",
       "      <td>Erongo</td>\n",
       "      <td>123.0</td>\n",
       "      <td>3567</td>\n",
       "    </tr>\n",
       "    <tr>\n",
       "      <th>16</th>\n",
       "      <td>July</td>\n",
       "      <td>Oshana</td>\n",
       "      <td>209.0</td>\n",
       "      <td>2787</td>\n",
       "    </tr>\n",
       "    <tr>\n",
       "      <th>17</th>\n",
       "      <td>July</td>\n",
       "      <td>Oshikoto</td>\n",
       "      <td>17.0</td>\n",
       "      <td>1942</td>\n",
       "    </tr>\n",
       "    <tr>\n",
       "      <th>18</th>\n",
       "      <td>July</td>\n",
       "      <td>Hardap</td>\n",
       "      <td>NaN</td>\n",
       "      <td>1136</td>\n",
       "    </tr>\n",
       "    <tr>\n",
       "      <th>19</th>\n",
       "      <td>July</td>\n",
       "      <td>Omusati</td>\n",
       "      <td>108.0</td>\n",
       "      <td>1957</td>\n",
       "    </tr>\n",
       "    <tr>\n",
       "      <th>20</th>\n",
       "      <td>July</td>\n",
       "      <td>Otjozondjupa</td>\n",
       "      <td>92.0</td>\n",
       "      <td>2316</td>\n",
       "    </tr>\n",
       "    <tr>\n",
       "      <th>21</th>\n",
       "      <td>July</td>\n",
       "      <td>Omaheke</td>\n",
       "      <td>112.0</td>\n",
       "      <td>613</td>\n",
       "    </tr>\n",
       "    <tr>\n",
       "      <th>22</th>\n",
       "      <td>July</td>\n",
       "      <td>Zambezi</td>\n",
       "      <td>45.0</td>\n",
       "      <td>1330</td>\n",
       "    </tr>\n",
       "    <tr>\n",
       "      <th>23</th>\n",
       "      <td>July</td>\n",
       "      <td>Kavango-West</td>\n",
       "      <td>NaN</td>\n",
       "      <td>258</td>\n",
       "    </tr>\n",
       "    <tr>\n",
       "      <th>24</th>\n",
       "      <td>July</td>\n",
       "      <td>Kavango-East</td>\n",
       "      <td>115.0</td>\n",
       "      <td>1877</td>\n",
       "    </tr>\n",
       "    <tr>\n",
       "      <th>25</th>\n",
       "      <td>July</td>\n",
       "      <td>Ohangwena</td>\n",
       "      <td>38.0</td>\n",
       "      <td>1329</td>\n",
       "    </tr>\n",
       "    <tr>\n",
       "      <th>26</th>\n",
       "      <td>July</td>\n",
       "      <td>Kunene</td>\n",
       "      <td>37.0</td>\n",
       "      <td>1146</td>\n",
       "    </tr>\n",
       "    <tr>\n",
       "      <th>27</th>\n",
       "      <td>July</td>\n",
       "      <td>Karas</td>\n",
       "      <td>44.0</td>\n",
       "      <td>1749</td>\n",
       "    </tr>\n",
       "    <tr>\n",
       "      <th>28</th>\n",
       "      <td>August</td>\n",
       "      <td>Khomas</td>\n",
       "      <td>44.0</td>\n",
       "      <td>590</td>\n",
       "    </tr>\n",
       "    <tr>\n",
       "      <th>29</th>\n",
       "      <td>August</td>\n",
       "      <td>Erongo</td>\n",
       "      <td>22.0</td>\n",
       "      <td>618</td>\n",
       "    </tr>\n",
       "    <tr>\n",
       "      <th>30</th>\n",
       "      <td>August</td>\n",
       "      <td>Oshana</td>\n",
       "      <td>46.0</td>\n",
       "      <td>718</td>\n",
       "    </tr>\n",
       "    <tr>\n",
       "      <th>31</th>\n",
       "      <td>August</td>\n",
       "      <td>Oshikoto</td>\n",
       "      <td>5.0</td>\n",
       "      <td>478</td>\n",
       "    </tr>\n",
       "    <tr>\n",
       "      <th>32</th>\n",
       "      <td>August</td>\n",
       "      <td>Hardap</td>\n",
       "      <td>9.0</td>\n",
       "      <td>130</td>\n",
       "    </tr>\n",
       "    <tr>\n",
       "      <th>33</th>\n",
       "      <td>August</td>\n",
       "      <td>Omusati</td>\n",
       "      <td>65.0</td>\n",
       "      <td>760</td>\n",
       "    </tr>\n",
       "    <tr>\n",
       "      <th>34</th>\n",
       "      <td>August</td>\n",
       "      <td>Otjozondjupa</td>\n",
       "      <td>9.0</td>\n",
       "      <td>346</td>\n",
       "    </tr>\n",
       "    <tr>\n",
       "      <th>35</th>\n",
       "      <td>August</td>\n",
       "      <td>Omaheke</td>\n",
       "      <td>13.0</td>\n",
       "      <td>362</td>\n",
       "    </tr>\n",
       "    <tr>\n",
       "      <th>36</th>\n",
       "      <td>August</td>\n",
       "      <td>Zambezi</td>\n",
       "      <td>23.0</td>\n",
       "      <td>233</td>\n",
       "    </tr>\n",
       "    <tr>\n",
       "      <th>37</th>\n",
       "      <td>August</td>\n",
       "      <td>Kavango-West</td>\n",
       "      <td>9.0</td>\n",
       "      <td>36</td>\n",
       "    </tr>\n",
       "    <tr>\n",
       "      <th>38</th>\n",
       "      <td>August</td>\n",
       "      <td>Kavango-East</td>\n",
       "      <td>12.0</td>\n",
       "      <td>88</td>\n",
       "    </tr>\n",
       "    <tr>\n",
       "      <th>39</th>\n",
       "      <td>August</td>\n",
       "      <td>Ohangwena</td>\n",
       "      <td>39.0</td>\n",
       "      <td>849</td>\n",
       "    </tr>\n",
       "    <tr>\n",
       "      <th>40</th>\n",
       "      <td>August</td>\n",
       "      <td>Kunene</td>\n",
       "      <td>29.0</td>\n",
       "      <td>211</td>\n",
       "    </tr>\n",
       "    <tr>\n",
       "      <th>41</th>\n",
       "      <td>August</td>\n",
       "      <td>Karas</td>\n",
       "      <td>2.0</td>\n",
       "      <td>434</td>\n",
       "    </tr>\n",
       "    <tr>\n",
       "      <th>42</th>\n",
       "      <td>September</td>\n",
       "      <td>Khomas</td>\n",
       "      <td>10.0</td>\n",
       "      <td>319</td>\n",
       "    </tr>\n",
       "    <tr>\n",
       "      <th>43</th>\n",
       "      <td>September</td>\n",
       "      <td>Erongo</td>\n",
       "      <td>5.0</td>\n",
       "      <td>174</td>\n",
       "    </tr>\n",
       "    <tr>\n",
       "      <th>44</th>\n",
       "      <td>September</td>\n",
       "      <td>Oshana</td>\n",
       "      <td>6.0</td>\n",
       "      <td>223</td>\n",
       "    </tr>\n",
       "    <tr>\n",
       "      <th>45</th>\n",
       "      <td>September</td>\n",
       "      <td>Oshikoto</td>\n",
       "      <td>6.0</td>\n",
       "      <td>43</td>\n",
       "    </tr>\n",
       "    <tr>\n",
       "      <th>46</th>\n",
       "      <td>September</td>\n",
       "      <td>Hardap</td>\n",
       "      <td>1.0</td>\n",
       "      <td>54</td>\n",
       "    </tr>\n",
       "    <tr>\n",
       "      <th>47</th>\n",
       "      <td>September</td>\n",
       "      <td>Omusati</td>\n",
       "      <td>15.0</td>\n",
       "      <td>99</td>\n",
       "    </tr>\n",
       "    <tr>\n",
       "      <th>48</th>\n",
       "      <td>September</td>\n",
       "      <td>Otjozondjupa</td>\n",
       "      <td>NaN</td>\n",
       "      <td>92</td>\n",
       "    </tr>\n",
       "    <tr>\n",
       "      <th>49</th>\n",
       "      <td>September</td>\n",
       "      <td>Omaheke</td>\n",
       "      <td>2.0</td>\n",
       "      <td>37</td>\n",
       "    </tr>\n",
       "    <tr>\n",
       "      <th>50</th>\n",
       "      <td>September</td>\n",
       "      <td>Zambezi</td>\n",
       "      <td>2.0</td>\n",
       "      <td>162</td>\n",
       "    </tr>\n",
       "    <tr>\n",
       "      <th>51</th>\n",
       "      <td>September</td>\n",
       "      <td>Kavango-West</td>\n",
       "      <td>NaN</td>\n",
       "      <td>125</td>\n",
       "    </tr>\n",
       "    <tr>\n",
       "      <th>52</th>\n",
       "      <td>September</td>\n",
       "      <td>Kavango-East</td>\n",
       "      <td>16.0</td>\n",
       "      <td>161</td>\n",
       "    </tr>\n",
       "    <tr>\n",
       "      <th>53</th>\n",
       "      <td>September</td>\n",
       "      <td>Ohangwena</td>\n",
       "      <td>15.0</td>\n",
       "      <td>456</td>\n",
       "    </tr>\n",
       "    <tr>\n",
       "      <th>54</th>\n",
       "      <td>September</td>\n",
       "      <td>Kunene</td>\n",
       "      <td>14.0</td>\n",
       "      <td>58</td>\n",
       "    </tr>\n",
       "    <tr>\n",
       "      <th>55</th>\n",
       "      <td>September</td>\n",
       "      <td>Karas</td>\n",
       "      <td>4.0</td>\n",
       "      <td>174</td>\n",
       "    </tr>\n",
       "  </tbody>\n",
       "</table>\n",
       "</div>"
      ],
      "text/plain": [
       "       Months       Regions  Deaths  Cases\n",
       "0        June        Khomas   171.0   9046\n",
       "1        June        Erongo    44.0   2939\n",
       "2        June        Oshana    16.0   1234\n",
       "3        June      Oshikoto     8.0    547\n",
       "4        June        Hardap     3.0   1895\n",
       "5        June       Omusati   108.0   1957\n",
       "6        June  Otjozondjupa    92.0   2316\n",
       "7        June       Omaheke   112.0    613\n",
       "8        June       Zambezi    45.0   1330\n",
       "9        June  Kavango-West     NaN    258\n",
       "10       June  Kavango-East   115.0   1877\n",
       "11       June     Ohangwena    38.0   1329\n",
       "12       June        Kunene    37.0   1146\n",
       "13       June         Karas    44.0   1749\n",
       "14       July        Khomas   324.0   4971\n",
       "15       July        Erongo   123.0   3567\n",
       "16       July        Oshana   209.0   2787\n",
       "17       July      Oshikoto    17.0   1942\n",
       "18       July        Hardap     NaN   1136\n",
       "19       July       Omusati   108.0   1957\n",
       "20       July  Otjozondjupa    92.0   2316\n",
       "21       July       Omaheke   112.0    613\n",
       "22       July       Zambezi    45.0   1330\n",
       "23       July  Kavango-West     NaN    258\n",
       "24       July  Kavango-East   115.0   1877\n",
       "25       July     Ohangwena    38.0   1329\n",
       "26       July        Kunene    37.0   1146\n",
       "27       July         Karas    44.0   1749\n",
       "28     August        Khomas    44.0    590\n",
       "29     August        Erongo    22.0    618\n",
       "30     August        Oshana    46.0    718\n",
       "31     August      Oshikoto     5.0    478\n",
       "32     August        Hardap     9.0    130\n",
       "33     August       Omusati    65.0    760\n",
       "34     August  Otjozondjupa     9.0    346\n",
       "35     August       Omaheke    13.0    362\n",
       "36     August       Zambezi    23.0    233\n",
       "37     August  Kavango-West     9.0     36\n",
       "38     August  Kavango-East    12.0     88\n",
       "39     August     Ohangwena    39.0    849\n",
       "40     August        Kunene    29.0    211\n",
       "41     August         Karas     2.0    434\n",
       "42  September        Khomas    10.0    319\n",
       "43  September        Erongo     5.0    174\n",
       "44  September        Oshana     6.0    223\n",
       "45  September      Oshikoto     6.0     43\n",
       "46  September        Hardap     1.0     54\n",
       "47  September       Omusati    15.0     99\n",
       "48  September  Otjozondjupa     NaN     92\n",
       "49  September       Omaheke     2.0     37\n",
       "50  September       Zambezi     2.0    162\n",
       "51  September  Kavango-West     NaN    125\n",
       "52  September  Kavango-East    16.0    161\n",
       "53  September     Ohangwena    15.0    456\n",
       "54  September        Kunene    14.0     58\n",
       "55  September         Karas     4.0    174"
      ]
     },
     "execution_count": 1175,
     "metadata": {},
     "output_type": "execute_result"
    }
   ],
   "source": [
    "df.head(59)"
   ]
  },
  {
   "cell_type": "code",
   "execution_count": 1176,
   "id": "e6e90a44",
   "metadata": {},
   "outputs": [],
   "source": [
    "df.drop (columns=['Cases'], inplace=True)\n"
   ]
  },
  {
   "cell_type": "code",
   "execution_count": 1177,
   "id": "67bdb7fc",
   "metadata": {},
   "outputs": [],
   "source": [
    "filt = df['Regions'] == 'Khomas'\n",
    "df.drop(index=df[filt].index, inplace=True)"
   ]
  },
  {
   "cell_type": "code",
   "execution_count": 1178,
   "id": "86e51092",
   "metadata": {},
   "outputs": [],
   "source": [
    "filt = df['Regions'] == 'Oshana'\n",
    "df.drop(index=df[filt].index, inplace=True)\n"
   ]
  },
  {
   "cell_type": "code",
   "execution_count": 1179,
   "id": "6c275ad3",
   "metadata": {},
   "outputs": [],
   "source": [
    "filt = df['Regions'] == 'Karas'\n",
    "df.drop(index=df[filt].index, inplace=True)"
   ]
  },
  {
   "cell_type": "code",
   "execution_count": 1180,
   "id": "982df2a4",
   "metadata": {},
   "outputs": [],
   "source": [
    "filt = df['Regions'] == 'Otjozondjupa'\n",
    "df.drop(index=df[filt].index, inplace=True)"
   ]
  },
  {
   "cell_type": "code",
   "execution_count": 1181,
   "id": "7f4885f7",
   "metadata": {},
   "outputs": [],
   "source": [
    "filt = df['Regions'] == 'Zambezi'\n",
    "df.drop(index=df[filt].index, inplace=True)"
   ]
  },
  {
   "cell_type": "code",
   "execution_count": 1182,
   "id": "3cca1727",
   "metadata": {},
   "outputs": [],
   "source": [
    "filt = df['Regions'] == 'Omaheke'\n",
    "df.drop(index=df[filt].index, inplace=True)"
   ]
  },
  {
   "cell_type": "code",
   "execution_count": 1183,
   "id": "95d45693",
   "metadata": {},
   "outputs": [],
   "source": [
    "filt = df['Regions'] == 'Kavango-West'\n",
    "df.drop(index=df[filt].index, inplace=True)"
   ]
  },
  {
   "cell_type": "code",
   "execution_count": 1184,
   "id": "7d51604b",
   "metadata": {},
   "outputs": [],
   "source": [
    "filt = df['Regions'] == 'Kavango-East'\n",
    "df.drop(index=df[filt].index, inplace=True)"
   ]
  },
  {
   "cell_type": "code",
   "execution_count": 1185,
   "id": "64f41d43",
   "metadata": {},
   "outputs": [],
   "source": [
    "filt = df['Regions'] == 'Oshikoto'\n",
    "\n",
    "df.drop(index=df[filt].index, inplace=True)\n"
   ]
  },
  {
   "cell_type": "code",
   "execution_count": 1186,
   "id": "76815701",
   "metadata": {},
   "outputs": [],
   "source": [
    "filt = df['Regions'] == 'Kunene'\n",
    "df.drop(index=df[filt].index, inplace=True)"
   ]
  },
  {
   "cell_type": "code",
   "execution_count": 1187,
   "id": "df67fb11",
   "metadata": {},
   "outputs": [],
   "source": [
    "filt = df['Regions'] == 'Ohangwena'\n",
    "df.drop(index=df[filt].index, inplace=True)"
   ]
  },
  {
   "cell_type": "code",
   "execution_count": 1188,
   "id": "f5a7eb72",
   "metadata": {},
   "outputs": [],
   "source": [
    "filt = df['Regions'] == 'Hardap'\n",
    "\n",
    "\n",
    "df.drop(index=df[filt].index, inplace=True)"
   ]
  },
  {
   "cell_type": "code",
   "execution_count": 1189,
   "id": "ed51fe03",
   "metadata": {},
   "outputs": [],
   "source": [
    "filt = df['Regions'] == 'Erongo'\n",
    "df.drop(index=df[filt].index, inplace=True)"
   ]
  },
  {
   "cell_type": "code",
   "execution_count": 1190,
   "id": "27748bcf",
   "metadata": {},
   "outputs": [
    {
     "data": {
      "text/html": [
       "<div>\n",
       "<style scoped>\n",
       "    .dataframe tbody tr th:only-of-type {\n",
       "        vertical-align: middle;\n",
       "    }\n",
       "\n",
       "    .dataframe tbody tr th {\n",
       "        vertical-align: top;\n",
       "    }\n",
       "\n",
       "    .dataframe thead th {\n",
       "        text-align: right;\n",
       "    }\n",
       "</style>\n",
       "<table border=\"1\" class=\"dataframe\">\n",
       "  <thead>\n",
       "    <tr style=\"text-align: right;\">\n",
       "      <th></th>\n",
       "      <th>Months</th>\n",
       "      <th>Regions</th>\n",
       "      <th>Deaths</th>\n",
       "    </tr>\n",
       "  </thead>\n",
       "  <tbody>\n",
       "    <tr>\n",
       "      <th>5</th>\n",
       "      <td>June</td>\n",
       "      <td>Omusati</td>\n",
       "      <td>108.0</td>\n",
       "    </tr>\n",
       "    <tr>\n",
       "      <th>19</th>\n",
       "      <td>July</td>\n",
       "      <td>Omusati</td>\n",
       "      <td>108.0</td>\n",
       "    </tr>\n",
       "    <tr>\n",
       "      <th>33</th>\n",
       "      <td>August</td>\n",
       "      <td>Omusati</td>\n",
       "      <td>65.0</td>\n",
       "    </tr>\n",
       "    <tr>\n",
       "      <th>47</th>\n",
       "      <td>September</td>\n",
       "      <td>Omusati</td>\n",
       "      <td>15.0</td>\n",
       "    </tr>\n",
       "  </tbody>\n",
       "</table>\n",
       "</div>"
      ],
      "text/plain": [
       "       Months  Regions  Deaths\n",
       "5        June  Omusati   108.0\n",
       "19       July  Omusati   108.0\n",
       "33     August  Omusati    65.0\n",
       "47  September  Omusati    15.0"
      ]
     },
     "execution_count": 1190,
     "metadata": {},
     "output_type": "execute_result"
    }
   ],
   "source": [
    "df"
   ]
  },
  {
   "cell_type": "code",
   "execution_count": 1191,
   "id": "1bf22d07",
   "metadata": {
    "scrolled": true
   },
   "outputs": [
    {
     "data": {
      "text/html": [
       "<div>\n",
       "<style scoped>\n",
       "    .dataframe tbody tr th:only-of-type {\n",
       "        vertical-align: middle;\n",
       "    }\n",
       "\n",
       "    .dataframe tbody tr th {\n",
       "        vertical-align: top;\n",
       "    }\n",
       "\n",
       "    .dataframe thead th {\n",
       "        text-align: right;\n",
       "    }\n",
       "</style>\n",
       "<table border=\"1\" class=\"dataframe\">\n",
       "  <thead>\n",
       "    <tr style=\"text-align: right;\">\n",
       "      <th></th>\n",
       "      <th>Deaths</th>\n",
       "    </tr>\n",
       "  </thead>\n",
       "  <tbody>\n",
       "    <tr>\n",
       "      <th>5</th>\n",
       "      <td>108.0</td>\n",
       "    </tr>\n",
       "    <tr>\n",
       "      <th>19</th>\n",
       "      <td>108.0</td>\n",
       "    </tr>\n",
       "    <tr>\n",
       "      <th>33</th>\n",
       "      <td>65.0</td>\n",
       "    </tr>\n",
       "    <tr>\n",
       "      <th>47</th>\n",
       "      <td>15.0</td>\n",
       "    </tr>\n",
       "  </tbody>\n",
       "</table>\n",
       "</div>"
      ],
      "text/plain": [
       "    Deaths\n",
       "5    108.0\n",
       "19   108.0\n",
       "33    65.0\n",
       "47    15.0"
      ]
     },
     "execution_count": 1191,
     "metadata": {},
     "output_type": "execute_result"
    }
   ],
   "source": [
    "df.drop(columns=['Months','Regions'])\n"
   ]
  },
  {
   "cell_type": "code",
   "execution_count": 1192,
   "id": "26e98695",
   "metadata": {},
   "outputs": [
    {
     "data": {
      "text/html": [
       "<div>\n",
       "<style scoped>\n",
       "    .dataframe tbody tr th:only-of-type {\n",
       "        vertical-align: middle;\n",
       "    }\n",
       "\n",
       "    .dataframe tbody tr th {\n",
       "        vertical-align: top;\n",
       "    }\n",
       "\n",
       "    .dataframe thead th {\n",
       "        text-align: right;\n",
       "    }\n",
       "</style>\n",
       "<table border=\"1\" class=\"dataframe\">\n",
       "  <thead>\n",
       "    <tr style=\"text-align: right;\">\n",
       "      <th></th>\n",
       "      <th>Deaths</th>\n",
       "    </tr>\n",
       "  </thead>\n",
       "  <tbody>\n",
       "    <tr>\n",
       "      <th>0</th>\n",
       "      <td>5</td>\n",
       "    </tr>\n",
       "    <tr>\n",
       "      <th>1</th>\n",
       "      <td>19</td>\n",
       "    </tr>\n",
       "    <tr>\n",
       "      <th>2</th>\n",
       "      <td>33</td>\n",
       "    </tr>\n",
       "    <tr>\n",
       "      <th>3</th>\n",
       "      <td>47</td>\n",
       "    </tr>\n",
       "  </tbody>\n",
       "</table>\n",
       "</div>"
      ],
      "text/plain": [
       "  Deaths\n",
       "0      5\n",
       "1     19\n",
       "2     33\n",
       "3     47"
      ]
     },
     "execution_count": 1192,
     "metadata": {},
     "output_type": "execute_result"
    }
   ],
   "source": [
    "import pandas as pd\n",
    "import matplotlib.pyplot as plt\n",
    "from sklearn import linear_model\n",
    "\n",
    "data = {'Deaths':['5','19','33','47']}\n",
    "\n",
    "df =pd.DataFrame(data)\n",
    "df"
   ]
  },
  {
   "cell_type": "code",
   "execution_count": 1193,
   "id": "26ce5649",
   "metadata": {},
   "outputs": [],
   "source": [
    "depended_x = ['17','18','19','20']\n",
    "df['depended_x']= depended_x"
   ]
  },
  {
   "cell_type": "code",
   "execution_count": 1194,
   "id": "441b2e89",
   "metadata": {},
   "outputs": [
    {
     "data": {
      "text/html": [
       "<div>\n",
       "<style scoped>\n",
       "    .dataframe tbody tr th:only-of-type {\n",
       "        vertical-align: middle;\n",
       "    }\n",
       "\n",
       "    .dataframe tbody tr th {\n",
       "        vertical-align: top;\n",
       "    }\n",
       "\n",
       "    .dataframe thead th {\n",
       "        text-align: right;\n",
       "    }\n",
       "</style>\n",
       "<table border=\"1\" class=\"dataframe\">\n",
       "  <thead>\n",
       "    <tr style=\"text-align: right;\">\n",
       "      <th></th>\n",
       "      <th>Deaths</th>\n",
       "      <th>depended_x</th>\n",
       "    </tr>\n",
       "  </thead>\n",
       "  <tbody>\n",
       "    <tr>\n",
       "      <th>0</th>\n",
       "      <td>5</td>\n",
       "      <td>17</td>\n",
       "    </tr>\n",
       "    <tr>\n",
       "      <th>1</th>\n",
       "      <td>19</td>\n",
       "      <td>18</td>\n",
       "    </tr>\n",
       "    <tr>\n",
       "      <th>2</th>\n",
       "      <td>33</td>\n",
       "      <td>19</td>\n",
       "    </tr>\n",
       "    <tr>\n",
       "      <th>3</th>\n",
       "      <td>47</td>\n",
       "      <td>20</td>\n",
       "    </tr>\n",
       "  </tbody>\n",
       "</table>\n",
       "</div>"
      ],
      "text/plain": [
       "  Deaths depended_x\n",
       "0      5         17\n",
       "1     19         18\n",
       "2     33         19\n",
       "3     47         20"
      ]
     },
     "execution_count": 1194,
     "metadata": {},
     "output_type": "execute_result"
    }
   ],
   "source": [
    "df"
   ]
  },
  {
   "cell_type": "code",
   "execution_count": 1195,
   "id": "f1c084ae",
   "metadata": {},
   "outputs": [
    {
     "data": {
      "text/plain": [
       "(4, 2)"
      ]
     },
     "execution_count": 1195,
     "metadata": {},
     "output_type": "execute_result"
    }
   ],
   "source": [
    "df.shape"
   ]
  },
  {
   "cell_type": "code",
   "execution_count": 1196,
   "id": "678b158f",
   "metadata": {
    "scrolled": true
   },
   "outputs": [
    {
     "data": {
      "image/png": "[encoded data removed]",
      "text/plain": [
       "<Figure size 432x288 with 1 Axes>"
      ]
     },
     "metadata": {
      "needs_background": "light"
     },
     "output_type": "display_data"
    }
   ],
   "source": [
    "import matplotlib.pyplot as plt\n",
    "df.plot(kind='scatter', x='depended_x', y='Deaths')\n",
    "plt.show()"
   ]
  },
  {
   "cell_type": "code",
   "execution_count": 1197,
   "id": "96eabd70",
   "metadata": {},
   "outputs": [
    {
     "data": {
      "text/html": [
       "<div>\n",
       "<style scoped>\n",
       "    .dataframe tbody tr th:only-of-type {\n",
       "        vertical-align: middle;\n",
       "    }\n",
       "\n",
       "    .dataframe tbody tr th {\n",
       "        vertical-align: top;\n",
       "    }\n",
       "\n",
       "    .dataframe thead th {\n",
       "        text-align: right;\n",
       "    }\n",
       "</style>\n",
       "<table border=\"1\" class=\"dataframe\">\n",
       "  <thead>\n",
       "    <tr style=\"text-align: right;\">\n",
       "      <th></th>\n",
       "    </tr>\n",
       "  </thead>\n",
       "  <tbody>\n",
       "  </tbody>\n",
       "</table>\n",
       "</div>"
      ],
      "text/plain": [
       "Empty DataFrame\n",
       "Columns: []\n",
       "Index: []"
      ]
     },
     "execution_count": 1197,
     "metadata": {},
     "output_type": "execute_result"
    }
   ],
   "source": [
    "\n",
    "df.corr()\n"
   ]
  },
  {
   "cell_type": "code",
   "execution_count": 1198,
   "id": "059be45c",
   "metadata": {},
   "outputs": [],
   "source": [
    "depended_x=pd.DataFrame(df['depended_x'])\n",
    "Cases=pd.DataFrame(df['Deaths'])"
   ]
  },
  {
   "cell_type": "code",
   "execution_count": 1199,
   "id": "2123f2e9",
   "metadata": {},
   "outputs": [
    {
     "data": {
      "text/html": [
       "<div>\n",
       "<style scoped>\n",
       "    .dataframe tbody tr th:only-of-type {\n",
       "        vertical-align: middle;\n",
       "    }\n",
       "\n",
       "    .dataframe tbody tr th {\n",
       "        vertical-align: top;\n",
       "    }\n",
       "\n",
       "    .dataframe thead th {\n",
       "        text-align: right;\n",
       "    }\n",
       "</style>\n",
       "<table border=\"1\" class=\"dataframe\">\n",
       "  <thead>\n",
       "    <tr style=\"text-align: right;\">\n",
       "      <th></th>\n",
       "      <th>depended_x</th>\n",
       "    </tr>\n",
       "  </thead>\n",
       "  <tbody>\n",
       "    <tr>\n",
       "      <th>0</th>\n",
       "      <td>17</td>\n",
       "    </tr>\n",
       "    <tr>\n",
       "      <th>1</th>\n",
       "      <td>18</td>\n",
       "    </tr>\n",
       "    <tr>\n",
       "      <th>2</th>\n",
       "      <td>19</td>\n",
       "    </tr>\n",
       "    <tr>\n",
       "      <th>3</th>\n",
       "      <td>20</td>\n",
       "    </tr>\n",
       "  </tbody>\n",
       "</table>\n",
       "</div>"
      ],
      "text/plain": [
       "  depended_x\n",
       "0         17\n",
       "1         18\n",
       "2         19\n",
       "3         20"
      ]
     },
     "execution_count": 1199,
     "metadata": {},
     "output_type": "execute_result"
    }
   ],
   "source": [
    "depended_x"
   ]
  },
  {
   "cell_type": "code",
   "execution_count": 1200,
   "id": "cef48fc8",
   "metadata": {},
   "outputs": [
    {
     "data": {
      "text/html": [
       "<div>\n",
       "<style scoped>\n",
       "    .dataframe tbody tr th:only-of-type {\n",
       "        vertical-align: middle;\n",
       "    }\n",
       "\n",
       "    .dataframe tbody tr th {\n",
       "        vertical-align: top;\n",
       "    }\n",
       "\n",
       "    .dataframe thead th {\n",
       "        text-align: right;\n",
       "    }\n",
       "</style>\n",
       "<table border=\"1\" class=\"dataframe\">\n",
       "  <thead>\n",
       "    <tr style=\"text-align: right;\">\n",
       "      <th></th>\n",
       "      <th>Deaths</th>\n",
       "    </tr>\n",
       "  </thead>\n",
       "  <tbody>\n",
       "    <tr>\n",
       "      <th>0</th>\n",
       "      <td>5</td>\n",
       "    </tr>\n",
       "    <tr>\n",
       "      <th>1</th>\n",
       "      <td>19</td>\n",
       "    </tr>\n",
       "    <tr>\n",
       "      <th>2</th>\n",
       "      <td>33</td>\n",
       "    </tr>\n",
       "    <tr>\n",
       "      <th>3</th>\n",
       "      <td>47</td>\n",
       "    </tr>\n",
       "  </tbody>\n",
       "</table>\n",
       "</div>"
      ],
      "text/plain": [
       "  Deaths\n",
       "0      5\n",
       "1     19\n",
       "2     33\n",
       "3     47"
      ]
     },
     "execution_count": 1200,
     "metadata": {},
     "output_type": "execute_result"
    }
   ],
   "source": [
    "Cases"
   ]
  },
  {
   "cell_type": "code",
   "execution_count": 1201,
   "id": "7cfe40df",
   "metadata": {},
   "outputs": [],
   "source": [
    "lm= linear_model.LinearRegression()\n",
    "model=lm.fit(depended_x, Deaths)"
   ]
  },
  {
   "cell_type": "code",
   "execution_count": 1202,
   "id": "9525c2c8",
   "metadata": {},
   "outputs": [
    {
     "data": {
      "text/plain": [
       "array([[-76.3]])"
      ]
     },
     "execution_count": 1202,
     "metadata": {},
     "output_type": "execute_result"
    }
   ],
   "source": [
    "model.coef_"
   ]
  },
  {
   "cell_type": "code",
   "execution_count": 1203,
   "id": "19325d8b",
   "metadata": {},
   "outputs": [
    {
     "data": {
      "text/plain": [
       "array([1548.8])"
      ]
     },
     "execution_count": 1203,
     "metadata": {},
     "output_type": "execute_result"
    }
   ],
   "source": [
    "model.intercept_"
   ]
  },
  {
   "cell_type": "code",
   "execution_count": 1204,
   "id": "a63de608",
   "metadata": {},
   "outputs": [
    {
     "data": {
      "text/plain": [
       "0.4779496820751109"
      ]
     },
     "execution_count": 1204,
     "metadata": {},
     "output_type": "execute_result"
    }
   ],
   "source": [
    "model.score(depended_x, Deaths) #EVALUATE THE MODEL"
   ]
  },
  {
   "cell_type": "code",
   "execution_count": 1205,
   "id": "249090dc",
   "metadata": {},
   "outputs": [
    {
     "data": {
      "text/plain": [
       "array([[-53.5]])"
      ]
     },
     "execution_count": 1205,
     "metadata": {},
     "output_type": "execute_result"
    }
   ],
   "source": [
    "#Predict death for October Month \n",
    "Depended_new=21\n",
    "Cases_predict=model.predict([[Depended_new]])\n",
    "Cases_predict"
   ]
  },
  {
   "cell_type": "code",
   "execution_count": 1206,
   "id": "dc128176",
   "metadata": {},
   "outputs": [
    {
     "data": {
      "text/plain": [
       "array([[-129.8]])"
      ]
     },
     "execution_count": 1206,
     "metadata": {},
     "output_type": "execute_result"
    }
   ],
   "source": [
    "#Predict death for November Month \n",
    "Depended_new=22\n",
    "Cases_predict=model.predict([[Depended_new]])\n",
    "Cases_predict"
   ]
  },
  {
   "cell_type": "code",
   "execution_count": null,
   "id": "fd1e5867",
   "metadata": {},
   "outputs": [],
   "source": []
  }
 ],
 "metadata": {
  "kernelspec": {
   "display_name": "Python 3",
   "language": "python",
   "name": "python3"
  },
  "language_info": {
   "codemirror_mode": {
    "name": "ipython",
    "version": 3
   },
   "file_extension": ".py",
   "mimetype": "text/x-python",
   "name": "python",
   "nbconvert_exporter": "python",
   "pygments_lexer": "ipython3",
   "version": "3.8.8"
  }
 },
 "nbformat": 4,
 "nbformat_minor": 5
}
