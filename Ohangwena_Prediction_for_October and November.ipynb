{
 "cells": [
  {
   "cell_type": "code",
   "execution_count": 1,
   "id": "1a0f4734",
   "metadata": {},
   "outputs": [],
   "source": [
    "import pandas as pd\n",
    "import matplotlib.pyplot as plt\n",
    "from sklearn import linear_model\n",
    "from collections import OrderedDict\n",
    "import pandas as df"
   ]
  },
  {
   "cell_type": "code",
   "execution_count": 15,
   "id": "1b738d03",
   "metadata": {},
   "outputs": [
    {
     "data": {
      "text/plain": [
       "(56, 4)"
      ]
     },
     "execution_count": 15,
     "metadata": {},
     "output_type": "execute_result"
    }
   ],
   "source": [
    "df = pd.read_csv(\"covidDataset.csv\")\n",
    "df.shape"
   ]
  },
  {
   "cell_type": "code",
   "execution_count": 16,
   "id": "679d66a2",
   "metadata": {},
   "outputs": [
    {
     "data": {
      "text/html": [
       "<div>\n",
       "<style scoped>\n",
       "    .dataframe tbody tr th:only-of-type {\n",
       "        vertical-align: middle;\n",
       "    }\n",
       "\n",
       "    .dataframe tbody tr th {\n",
       "        vertical-align: top;\n",
       "    }\n",
       "\n",
       "    .dataframe thead th {\n",
       "        text-align: right;\n",
       "    }\n",
       "</style>\n",
       "<table border=\"1\" class=\"dataframe\">\n",
       "  <thead>\n",
       "    <tr style=\"text-align: right;\">\n",
       "      <th></th>\n",
       "      <th>Months</th>\n",
       "      <th>Regions</th>\n",
       "      <th>Deaths</th>\n",
       "      <th>Cases</th>\n",
       "    </tr>\n",
       "  </thead>\n",
       "  <tbody>\n",
       "    <tr>\n",
       "      <th>0</th>\n",
       "      <td>June</td>\n",
       "      <td>Khomas</td>\n",
       "      <td>171.0</td>\n",
       "      <td>9046</td>\n",
       "    </tr>\n",
       "    <tr>\n",
       "      <th>1</th>\n",
       "      <td>June</td>\n",
       "      <td>Erongo</td>\n",
       "      <td>44.0</td>\n",
       "      <td>2939</td>\n",
       "    </tr>\n",
       "    <tr>\n",
       "      <th>2</th>\n",
       "      <td>June</td>\n",
       "      <td>Oshana</td>\n",
       "      <td>16.0</td>\n",
       "      <td>1234</td>\n",
       "    </tr>\n",
       "    <tr>\n",
       "      <th>3</th>\n",
       "      <td>June</td>\n",
       "      <td>Oshikoto</td>\n",
       "      <td>8.0</td>\n",
       "      <td>547</td>\n",
       "    </tr>\n",
       "    <tr>\n",
       "      <th>4</th>\n",
       "      <td>June</td>\n",
       "      <td>Hardap</td>\n",
       "      <td>3.0</td>\n",
       "      <td>1895</td>\n",
       "    </tr>\n",
       "    <tr>\n",
       "      <th>5</th>\n",
       "      <td>June</td>\n",
       "      <td>Omusati</td>\n",
       "      <td>108.0</td>\n",
       "      <td>1957</td>\n",
       "    </tr>\n",
       "    <tr>\n",
       "      <th>6</th>\n",
       "      <td>June</td>\n",
       "      <td>Otjozondjupa</td>\n",
       "      <td>92.0</td>\n",
       "      <td>2316</td>\n",
       "    </tr>\n",
       "    <tr>\n",
       "      <th>7</th>\n",
       "      <td>June</td>\n",
       "      <td>Omaheke</td>\n",
       "      <td>112.0</td>\n",
       "      <td>613</td>\n",
       "    </tr>\n",
       "    <tr>\n",
       "      <th>8</th>\n",
       "      <td>June</td>\n",
       "      <td>Zambezi</td>\n",
       "      <td>45.0</td>\n",
       "      <td>1330</td>\n",
       "    </tr>\n",
       "    <tr>\n",
       "      <th>9</th>\n",
       "      <td>June</td>\n",
       "      <td>Kavango-West</td>\n",
       "      <td>NaN</td>\n",
       "      <td>258</td>\n",
       "    </tr>\n",
       "    <tr>\n",
       "      <th>10</th>\n",
       "      <td>June</td>\n",
       "      <td>Kavango-East</td>\n",
       "      <td>115.0</td>\n",
       "      <td>1877</td>\n",
       "    </tr>\n",
       "    <tr>\n",
       "      <th>11</th>\n",
       "      <td>June</td>\n",
       "      <td>Ohangwena</td>\n",
       "      <td>38.0</td>\n",
       "      <td>1329</td>\n",
       "    </tr>\n",
       "    <tr>\n",
       "      <th>12</th>\n",
       "      <td>June</td>\n",
       "      <td>Kunene</td>\n",
       "      <td>37.0</td>\n",
       "      <td>1146</td>\n",
       "    </tr>\n",
       "    <tr>\n",
       "      <th>13</th>\n",
       "      <td>June</td>\n",
       "      <td>Karas</td>\n",
       "      <td>44.0</td>\n",
       "      <td>1749</td>\n",
       "    </tr>\n",
       "    <tr>\n",
       "      <th>14</th>\n",
       "      <td>July</td>\n",
       "      <td>Khomas</td>\n",
       "      <td>324.0</td>\n",
       "      <td>4971</td>\n",
       "    </tr>\n",
       "    <tr>\n",
       "      <th>15</th>\n",
       "      <td>July</td>\n",
       "      <td>Erongo</td>\n",
       "      <td>123.0</td>\n",
       "      <td>3567</td>\n",
       "    </tr>\n",
       "    <tr>\n",
       "      <th>16</th>\n",
       "      <td>July</td>\n",
       "      <td>Oshana</td>\n",
       "      <td>209.0</td>\n",
       "      <td>2787</td>\n",
       "    </tr>\n",
       "    <tr>\n",
       "      <th>17</th>\n",
       "      <td>July</td>\n",
       "      <td>Oshikoto</td>\n",
       "      <td>17.0</td>\n",
       "      <td>1942</td>\n",
       "    </tr>\n",
       "    <tr>\n",
       "      <th>18</th>\n",
       "      <td>July</td>\n",
       "      <td>Hardap</td>\n",
       "      <td>NaN</td>\n",
       "      <td>1136</td>\n",
       "    </tr>\n",
       "    <tr>\n",
       "      <th>19</th>\n",
       "      <td>July</td>\n",
       "      <td>Omusati</td>\n",
       "      <td>108.0</td>\n",
       "      <td>1957</td>\n",
       "    </tr>\n",
       "    <tr>\n",
       "      <th>20</th>\n",
       "      <td>July</td>\n",
       "      <td>Otjozondjupa</td>\n",
       "      <td>92.0</td>\n",
       "      <td>2316</td>\n",
       "    </tr>\n",
       "    <tr>\n",
       "      <th>21</th>\n",
       "      <td>July</td>\n",
       "      <td>Omaheke</td>\n",
       "      <td>112.0</td>\n",
       "      <td>613</td>\n",
       "    </tr>\n",
       "    <tr>\n",
       "      <th>22</th>\n",
       "      <td>July</td>\n",
       "      <td>Zambezi</td>\n",
       "      <td>45.0</td>\n",
       "      <td>1330</td>\n",
       "    </tr>\n",
       "    <tr>\n",
       "      <th>23</th>\n",
       "      <td>July</td>\n",
       "      <td>Kavango-West</td>\n",
       "      <td>NaN</td>\n",
       "      <td>258</td>\n",
       "    </tr>\n",
       "    <tr>\n",
       "      <th>24</th>\n",
       "      <td>July</td>\n",
       "      <td>Kavango-East</td>\n",
       "      <td>115.0</td>\n",
       "      <td>1877</td>\n",
       "    </tr>\n",
       "    <tr>\n",
       "      <th>25</th>\n",
       "      <td>July</td>\n",
       "      <td>Ohangwena</td>\n",
       "      <td>38.0</td>\n",
       "      <td>1329</td>\n",
       "    </tr>\n",
       "    <tr>\n",
       "      <th>26</th>\n",
       "      <td>July</td>\n",
       "      <td>Kunene</td>\n",
       "      <td>37.0</td>\n",
       "      <td>1146</td>\n",
       "    </tr>\n",
       "    <tr>\n",
       "      <th>27</th>\n",
       "      <td>July</td>\n",
       "      <td>Karas</td>\n",
       "      <td>44.0</td>\n",
       "      <td>1749</td>\n",
       "    </tr>\n",
       "    <tr>\n",
       "      <th>28</th>\n",
       "      <td>August</td>\n",
       "      <td>Khomas</td>\n",
       "      <td>44.0</td>\n",
       "      <td>590</td>\n",
       "    </tr>\n",
       "    <tr>\n",
       "      <th>29</th>\n",
       "      <td>August</td>\n",
       "      <td>Erongo</td>\n",
       "      <td>22.0</td>\n",
       "      <td>618</td>\n",
       "    </tr>\n",
       "    <tr>\n",
       "      <th>30</th>\n",
       "      <td>August</td>\n",
       "      <td>Oshana</td>\n",
       "      <td>46.0</td>\n",
       "      <td>718</td>\n",
       "    </tr>\n",
       "    <tr>\n",
       "      <th>31</th>\n",
       "      <td>August</td>\n",
       "      <td>Oshikoto</td>\n",
       "      <td>5.0</td>\n",
       "      <td>478</td>\n",
       "    </tr>\n",
       "    <tr>\n",
       "      <th>32</th>\n",
       "      <td>August</td>\n",
       "      <td>Hardap</td>\n",
       "      <td>9.0</td>\n",
       "      <td>130</td>\n",
       "    </tr>\n",
       "    <tr>\n",
       "      <th>33</th>\n",
       "      <td>August</td>\n",
       "      <td>Omusati</td>\n",
       "      <td>65.0</td>\n",
       "      <td>760</td>\n",
       "    </tr>\n",
       "    <tr>\n",
       "      <th>34</th>\n",
       "      <td>August</td>\n",
       "      <td>Otjozondjupa</td>\n",
       "      <td>9.0</td>\n",
       "      <td>346</td>\n",
       "    </tr>\n",
       "    <tr>\n",
       "      <th>35</th>\n",
       "      <td>August</td>\n",
       "      <td>Omaheke</td>\n",
       "      <td>13.0</td>\n",
       "      <td>362</td>\n",
       "    </tr>\n",
       "    <tr>\n",
       "      <th>36</th>\n",
       "      <td>August</td>\n",
       "      <td>Zambezi</td>\n",
       "      <td>23.0</td>\n",
       "      <td>233</td>\n",
       "    </tr>\n",
       "    <tr>\n",
       "      <th>37</th>\n",
       "      <td>August</td>\n",
       "      <td>Kavango-West</td>\n",
       "      <td>9.0</td>\n",
       "      <td>36</td>\n",
       "    </tr>\n",
       "    <tr>\n",
       "      <th>38</th>\n",
       "      <td>August</td>\n",
       "      <td>Kavango-East</td>\n",
       "      <td>12.0</td>\n",
       "      <td>88</td>\n",
       "    </tr>\n",
       "    <tr>\n",
       "      <th>39</th>\n",
       "      <td>August</td>\n",
       "      <td>Ohangwena</td>\n",
       "      <td>39.0</td>\n",
       "      <td>849</td>\n",
       "    </tr>\n",
       "    <tr>\n",
       "      <th>40</th>\n",
       "      <td>August</td>\n",
       "      <td>Kunene</td>\n",
       "      <td>29.0</td>\n",
       "      <td>211</td>\n",
       "    </tr>\n",
       "    <tr>\n",
       "      <th>41</th>\n",
       "      <td>August</td>\n",
       "      <td>Karas</td>\n",
       "      <td>2.0</td>\n",
       "      <td>434</td>\n",
       "    </tr>\n",
       "    <tr>\n",
       "      <th>42</th>\n",
       "      <td>September</td>\n",
       "      <td>Khomas</td>\n",
       "      <td>10.0</td>\n",
       "      <td>319</td>\n",
       "    </tr>\n",
       "    <tr>\n",
       "      <th>43</th>\n",
       "      <td>September</td>\n",
       "      <td>Erongo</td>\n",
       "      <td>5.0</td>\n",
       "      <td>174</td>\n",
       "    </tr>\n",
       "    <tr>\n",
       "      <th>44</th>\n",
       "      <td>September</td>\n",
       "      <td>Oshana</td>\n",
       "      <td>6.0</td>\n",
       "      <td>223</td>\n",
       "    </tr>\n",
       "    <tr>\n",
       "      <th>45</th>\n",
       "      <td>September</td>\n",
       "      <td>Oshikoto</td>\n",
       "      <td>6.0</td>\n",
       "      <td>43</td>\n",
       "    </tr>\n",
       "    <tr>\n",
       "      <th>46</th>\n",
       "      <td>September</td>\n",
       "      <td>Hardap</td>\n",
       "      <td>1.0</td>\n",
       "      <td>54</td>\n",
       "    </tr>\n",
       "    <tr>\n",
       "      <th>47</th>\n",
       "      <td>September</td>\n",
       "      <td>Omusati</td>\n",
       "      <td>15.0</td>\n",
       "      <td>99</td>\n",
       "    </tr>\n",
       "    <tr>\n",
       "      <th>48</th>\n",
       "      <td>September</td>\n",
       "      <td>Otjozondjupa</td>\n",
       "      <td>NaN</td>\n",
       "      <td>92</td>\n",
       "    </tr>\n",
       "    <tr>\n",
       "      <th>49</th>\n",
       "      <td>September</td>\n",
       "      <td>Omaheke</td>\n",
       "      <td>2.0</td>\n",
       "      <td>37</td>\n",
       "    </tr>\n",
       "    <tr>\n",
       "      <th>50</th>\n",
       "      <td>September</td>\n",
       "      <td>Zambezi</td>\n",
       "      <td>2.0</td>\n",
       "      <td>162</td>\n",
       "    </tr>\n",
       "    <tr>\n",
       "      <th>51</th>\n",
       "      <td>September</td>\n",
       "      <td>Kavango-West</td>\n",
       "      <td>NaN</td>\n",
       "      <td>125</td>\n",
       "    </tr>\n",
       "    <tr>\n",
       "      <th>52</th>\n",
       "      <td>September</td>\n",
       "      <td>Kavango-East</td>\n",
       "      <td>16.0</td>\n",
       "      <td>161</td>\n",
       "    </tr>\n",
       "    <tr>\n",
       "      <th>53</th>\n",
       "      <td>September</td>\n",
       "      <td>Ohangwena</td>\n",
       "      <td>15.0</td>\n",
       "      <td>456</td>\n",
       "    </tr>\n",
       "    <tr>\n",
       "      <th>54</th>\n",
       "      <td>September</td>\n",
       "      <td>Kunene</td>\n",
       "      <td>14.0</td>\n",
       "      <td>58</td>\n",
       "    </tr>\n",
       "    <tr>\n",
       "      <th>55</th>\n",
       "      <td>September</td>\n",
       "      <td>Karas</td>\n",
       "      <td>4.0</td>\n",
       "      <td>174</td>\n",
       "    </tr>\n",
       "  </tbody>\n",
       "</table>\n",
       "</div>"
      ],
      "text/plain": [
       "       Months       Regions  Deaths  Cases\n",
       "0        June        Khomas   171.0   9046\n",
       "1        June        Erongo    44.0   2939\n",
       "2        June        Oshana    16.0   1234\n",
       "3        June      Oshikoto     8.0    547\n",
       "4        June        Hardap     3.0   1895\n",
       "5        June       Omusati   108.0   1957\n",
       "6        June  Otjozondjupa    92.0   2316\n",
       "7        June       Omaheke   112.0    613\n",
       "8        June       Zambezi    45.0   1330\n",
       "9        June  Kavango-West     NaN    258\n",
       "10       June  Kavango-East   115.0   1877\n",
       "11       June     Ohangwena    38.0   1329\n",
       "12       June        Kunene    37.0   1146\n",
       "13       June         Karas    44.0   1749\n",
       "14       July        Khomas   324.0   4971\n",
       "15       July        Erongo   123.0   3567\n",
       "16       July        Oshana   209.0   2787\n",
       "17       July      Oshikoto    17.0   1942\n",
       "18       July        Hardap     NaN   1136\n",
       "19       July       Omusati   108.0   1957\n",
       "20       July  Otjozondjupa    92.0   2316\n",
       "21       July       Omaheke   112.0    613\n",
       "22       July       Zambezi    45.0   1330\n",
       "23       July  Kavango-West     NaN    258\n",
       "24       July  Kavango-East   115.0   1877\n",
       "25       July     Ohangwena    38.0   1329\n",
       "26       July        Kunene    37.0   1146\n",
       "27       July         Karas    44.0   1749\n",
       "28     August        Khomas    44.0    590\n",
       "29     August        Erongo    22.0    618\n",
       "30     August        Oshana    46.0    718\n",
       "31     August      Oshikoto     5.0    478\n",
       "32     August        Hardap     9.0    130\n",
       "33     August       Omusati    65.0    760\n",
       "34     August  Otjozondjupa     9.0    346\n",
       "35     August       Omaheke    13.0    362\n",
       "36     August       Zambezi    23.0    233\n",
       "37     August  Kavango-West     9.0     36\n",
       "38     August  Kavango-East    12.0     88\n",
       "39     August     Ohangwena    39.0    849\n",
       "40     August        Kunene    29.0    211\n",
       "41     August         Karas     2.0    434\n",
       "42  September        Khomas    10.0    319\n",
       "43  September        Erongo     5.0    174\n",
       "44  September        Oshana     6.0    223\n",
       "45  September      Oshikoto     6.0     43\n",
       "46  September        Hardap     1.0     54\n",
       "47  September       Omusati    15.0     99\n",
       "48  September  Otjozondjupa     NaN     92\n",
       "49  September       Omaheke     2.0     37\n",
       "50  September       Zambezi     2.0    162\n",
       "51  September  Kavango-West     NaN    125\n",
       "52  September  Kavango-East    16.0    161\n",
       "53  September     Ohangwena    15.0    456\n",
       "54  September        Kunene    14.0     58\n",
       "55  September         Karas     4.0    174"
      ]
     },
     "execution_count": 16,
     "metadata": {},
     "output_type": "execute_result"
    }
   ],
   "source": [
    "df.head(59)"
   ]
  },
  {
   "cell_type": "code",
   "execution_count": 17,
   "id": "e2ac1972",
   "metadata": {},
   "outputs": [],
   "source": [
    "df.drop (columns=['Deaths'], inplace=True)\n"
   ]
  },
  {
   "cell_type": "code",
   "execution_count": 18,
   "id": "b0829ef2",
   "metadata": {},
   "outputs": [],
   "source": [
    "filt = df['Regions'] == 'Khomas'\n",
    "df.drop(index=df[filt].index, inplace=True)"
   ]
  },
  {
   "cell_type": "code",
   "execution_count": 19,
   "id": "8840f677",
   "metadata": {},
   "outputs": [],
   "source": [
    "filt = df['Regions'] == 'Erongo'\n",
    "df.drop(index=df[filt].index, inplace=True)"
   ]
  },
  {
   "cell_type": "code",
   "execution_count": 20,
   "id": "d1518966",
   "metadata": {},
   "outputs": [],
   "source": [
    "filt = df['Regions'] == 'Oshana'\n",
    "df.drop(index=df[filt].index, inplace=True)"
   ]
  },
  {
   "cell_type": "code",
   "execution_count": 21,
   "id": "4e348fa4",
   "metadata": {},
   "outputs": [],
   "source": [
    "filt = df['Regions'] == 'Oshikoto'\n",
    "df.drop(index=df[filt].index, inplace=True)\n"
   ]
  },
  {
   "cell_type": "code",
   "execution_count": 22,
   "id": "b605f40f",
   "metadata": {},
   "outputs": [],
   "source": [
    "filt = df['Regions'] == 'Karas'\n",
    "df.drop(index=df[filt].index, inplace=True)"
   ]
  },
  {
   "cell_type": "code",
   "execution_count": 23,
   "id": "fe5ed545",
   "metadata": {},
   "outputs": [],
   "source": [
    "filt = df['Regions'] == 'Omusati'\n",
    "df.drop(index=df[filt].index, inplace=True)\n"
   ]
  },
  {
   "cell_type": "code",
   "execution_count": 24,
   "id": "80bc4f26",
   "metadata": {},
   "outputs": [],
   "source": [
    "filt = df['Regions'] == 'Otjozondjupa'\n",
    "df.drop(index=df[filt].index, inplace=True)"
   ]
  },
  {
   "cell_type": "code",
   "execution_count": 25,
   "id": "85da97c9",
   "metadata": {},
   "outputs": [],
   "source": [
    "filt = df['Regions'] == 'Omaheke'\n",
    "df.drop(index=df[filt].index, inplace=True)"
   ]
  },
  {
   "cell_type": "code",
   "execution_count": 27,
   "id": "cc33a8cd",
   "metadata": {},
   "outputs": [],
   "source": [
    "filt = df['Regions'] == 'Zambezi'\n",
    "df.drop(index=df[filt].index, inplace=True)"
   ]
  },
  {
   "cell_type": "code",
   "execution_count": 28,
   "id": "17c68fdf",
   "metadata": {},
   "outputs": [],
   "source": [
    "filt = df['Regions'] == 'Kavango-West'\n",
    "df.drop(index=df[filt].index, inplace=True)"
   ]
  },
  {
   "cell_type": "code",
   "execution_count": 32,
   "id": "c944c2fc",
   "metadata": {},
   "outputs": [],
   "source": [
    "filt = df['Regions'] == 'Kavango-East'\n",
    "df.drop(index=df[filt].index, inplace=True)"
   ]
  },
  {
   "cell_type": "code",
   "execution_count": 29,
   "id": "19e561b8",
   "metadata": {},
   "outputs": [],
   "source": [
    "filt = df['Regions'] == 'Kunene'\n",
    "df.drop(index=df[filt].index, inplace=True)\n"
   ]
  },
  {
   "cell_type": "code",
   "execution_count": 30,
   "id": "0f4d6ceb",
   "metadata": {},
   "outputs": [],
   "source": [
    "filt = df['Regions'] == 'Hardap'\n",
    "df.drop(index=df[filt].index, inplace=True)"
   ]
  },
  {
   "cell_type": "code",
   "execution_count": 33,
   "id": "84186604",
   "metadata": {},
   "outputs": [
    {
     "data": {
      "text/html": [
       "<div>\n",
       "<style scoped>\n",
       "    .dataframe tbody tr th:only-of-type {\n",
       "        vertical-align: middle;\n",
       "    }\n",
       "\n",
       "    .dataframe tbody tr th {\n",
       "        vertical-align: top;\n",
       "    }\n",
       "\n",
       "    .dataframe thead th {\n",
       "        text-align: right;\n",
       "    }\n",
       "</style>\n",
       "<table border=\"1\" class=\"dataframe\">\n",
       "  <thead>\n",
       "    <tr style=\"text-align: right;\">\n",
       "      <th></th>\n",
       "      <th>Months</th>\n",
       "      <th>Regions</th>\n",
       "      <th>Cases</th>\n",
       "    </tr>\n",
       "  </thead>\n",
       "  <tbody>\n",
       "    <tr>\n",
       "      <th>11</th>\n",
       "      <td>June</td>\n",
       "      <td>Ohangwena</td>\n",
       "      <td>1329</td>\n",
       "    </tr>\n",
       "    <tr>\n",
       "      <th>25</th>\n",
       "      <td>July</td>\n",
       "      <td>Ohangwena</td>\n",
       "      <td>1329</td>\n",
       "    </tr>\n",
       "    <tr>\n",
       "      <th>39</th>\n",
       "      <td>August</td>\n",
       "      <td>Ohangwena</td>\n",
       "      <td>849</td>\n",
       "    </tr>\n",
       "    <tr>\n",
       "      <th>53</th>\n",
       "      <td>September</td>\n",
       "      <td>Ohangwena</td>\n",
       "      <td>456</td>\n",
       "    </tr>\n",
       "  </tbody>\n",
       "</table>\n",
       "</div>"
      ],
      "text/plain": [
       "       Months    Regions  Cases\n",
       "11       June  Ohangwena   1329\n",
       "25       July  Ohangwena   1329\n",
       "39     August  Ohangwena    849\n",
       "53  September  Ohangwena    456"
      ]
     },
     "execution_count": 33,
     "metadata": {},
     "output_type": "execute_result"
    }
   ],
   "source": [
    "df"
   ]
  },
  {
   "cell_type": "code",
   "execution_count": 34,
   "id": "58c0f86a",
   "metadata": {},
   "outputs": [
    {
     "data": {
      "text/html": [
       "<div>\n",
       "<style scoped>\n",
       "    .dataframe tbody tr th:only-of-type {\n",
       "        vertical-align: middle;\n",
       "    }\n",
       "\n",
       "    .dataframe tbody tr th {\n",
       "        vertical-align: top;\n",
       "    }\n",
       "\n",
       "    .dataframe thead th {\n",
       "        text-align: right;\n",
       "    }\n",
       "</style>\n",
       "<table border=\"1\" class=\"dataframe\">\n",
       "  <thead>\n",
       "    <tr style=\"text-align: right;\">\n",
       "      <th></th>\n",
       "      <th>Cases</th>\n",
       "    </tr>\n",
       "  </thead>\n",
       "  <tbody>\n",
       "    <tr>\n",
       "      <th>11</th>\n",
       "      <td>1329</td>\n",
       "    </tr>\n",
       "    <tr>\n",
       "      <th>25</th>\n",
       "      <td>1329</td>\n",
       "    </tr>\n",
       "    <tr>\n",
       "      <th>39</th>\n",
       "      <td>849</td>\n",
       "    </tr>\n",
       "    <tr>\n",
       "      <th>53</th>\n",
       "      <td>456</td>\n",
       "    </tr>\n",
       "  </tbody>\n",
       "</table>\n",
       "</div>"
      ],
      "text/plain": [
       "    Cases\n",
       "11   1329\n",
       "25   1329\n",
       "39    849\n",
       "53    456"
      ]
     },
     "execution_count": 34,
     "metadata": {},
     "output_type": "execute_result"
    }
   ],
   "source": [
    "df.drop(columns=['Months','Regions'])"
   ]
  },
  {
   "cell_type": "code",
   "execution_count": 35,
   "id": "f1b34c01",
   "metadata": {},
   "outputs": [],
   "source": [
    "import pandas as pd\n",
    "import matplotlib.pyplot as plt\n",
    "from sklearn import linear_model\n"
   ]
  },
  {
   "cell_type": "code",
   "execution_count": 36,
   "id": "6c9a735e",
   "metadata": {},
   "outputs": [
    {
     "data": {
      "text/html": [
       "<div>\n",
       "<style scoped>\n",
       "    .dataframe tbody tr th:only-of-type {\n",
       "        vertical-align: middle;\n",
       "    }\n",
       "\n",
       "    .dataframe tbody tr th {\n",
       "        vertical-align: top;\n",
       "    }\n",
       "\n",
       "    .dataframe thead th {\n",
       "        text-align: right;\n",
       "    }\n",
       "</style>\n",
       "<table border=\"1\" class=\"dataframe\">\n",
       "  <thead>\n",
       "    <tr style=\"text-align: right;\">\n",
       "      <th></th>\n",
       "      <th>Cases</th>\n",
       "    </tr>\n",
       "  </thead>\n",
       "  <tbody>\n",
       "    <tr>\n",
       "      <th>0</th>\n",
       "      <td>1329</td>\n",
       "    </tr>\n",
       "    <tr>\n",
       "      <th>1</th>\n",
       "      <td>1329</td>\n",
       "    </tr>\n",
       "    <tr>\n",
       "      <th>2</th>\n",
       "      <td>849</td>\n",
       "    </tr>\n",
       "    <tr>\n",
       "      <th>3</th>\n",
       "      <td>456</td>\n",
       "    </tr>\n",
       "  </tbody>\n",
       "</table>\n",
       "</div>"
      ],
      "text/plain": [
       "  Cases\n",
       "0  1329\n",
       "1  1329\n",
       "2   849\n",
       "3   456"
      ]
     },
     "execution_count": 36,
     "metadata": {},
     "output_type": "execute_result"
    }
   ],
   "source": [
    "import pandas as pd\n",
    "import matplotlib.pyplot as plt\n",
    "from sklearn import linear_model\n",
    "\n",
    "data = {'Cases':['1329','1329','849','456']}\n",
    "\n",
    "df =pd.DataFrame(data)\n",
    "df"
   ]
  },
  {
   "cell_type": "code",
   "execution_count": 37,
   "id": "8f5848fb",
   "metadata": {},
   "outputs": [],
   "source": [
    "depended_x = ['17','18','19','20']\n",
    "df['depended_x']= depended_x"
   ]
  },
  {
   "cell_type": "code",
   "execution_count": 38,
   "id": "6ac93390",
   "metadata": {},
   "outputs": [
    {
     "data": {
      "text/html": [
       "<div>\n",
       "<style scoped>\n",
       "    .dataframe tbody tr th:only-of-type {\n",
       "        vertical-align: middle;\n",
       "    }\n",
       "\n",
       "    .dataframe tbody tr th {\n",
       "        vertical-align: top;\n",
       "    }\n",
       "\n",
       "    .dataframe thead th {\n",
       "        text-align: right;\n",
       "    }\n",
       "</style>\n",
       "<table border=\"1\" class=\"dataframe\">\n",
       "  <thead>\n",
       "    <tr style=\"text-align: right;\">\n",
       "      <th></th>\n",
       "      <th>Cases</th>\n",
       "      <th>depended_x</th>\n",
       "    </tr>\n",
       "  </thead>\n",
       "  <tbody>\n",
       "    <tr>\n",
       "      <th>0</th>\n",
       "      <td>1329</td>\n",
       "      <td>17</td>\n",
       "    </tr>\n",
       "    <tr>\n",
       "      <th>1</th>\n",
       "      <td>1329</td>\n",
       "      <td>18</td>\n",
       "    </tr>\n",
       "    <tr>\n",
       "      <th>2</th>\n",
       "      <td>849</td>\n",
       "      <td>19</td>\n",
       "    </tr>\n",
       "    <tr>\n",
       "      <th>3</th>\n",
       "      <td>456</td>\n",
       "      <td>20</td>\n",
       "    </tr>\n",
       "  </tbody>\n",
       "</table>\n",
       "</div>"
      ],
      "text/plain": [
       "  Cases depended_x\n",
       "0  1329         17\n",
       "1  1329         18\n",
       "2   849         19\n",
       "3   456         20"
      ]
     },
     "execution_count": 38,
     "metadata": {},
     "output_type": "execute_result"
    }
   ],
   "source": [
    "df"
   ]
  },
  {
   "cell_type": "code",
   "execution_count": 39,
   "id": "5cb2dec9",
   "metadata": {},
   "outputs": [
    {
     "data": {
      "text/plain": [
       "(4, 2)"
      ]
     },
     "execution_count": 39,
     "metadata": {},
     "output_type": "execute_result"
    }
   ],
   "source": [
    "df.shape"
   ]
  },
  {
   "cell_type": "code",
   "execution_count": 40,
   "id": "b509dac0",
   "metadata": {},
   "outputs": [
    {
     "data": {
      "image/png": "[encoded data removed]",
      "text/plain": [
       "<Figure size 432x288 with 1 Axes>"
      ]
     },
     "metadata": {
      "needs_background": "light"
     },
     "output_type": "display_data"
    }
   ],
   "source": [
    "import matplotlib.pyplot as plt\n",
    "df.plot(kind='scatter', x='depended_x', y='Cases')\n",
    "plt.show()"
   ]
  },
  {
   "cell_type": "code",
   "execution_count": 41,
   "id": "65f60ec9",
   "metadata": {},
   "outputs": [
    {
     "data": {
      "text/html": [
       "<div>\n",
       "<style scoped>\n",
       "    .dataframe tbody tr th:only-of-type {\n",
       "        vertical-align: middle;\n",
       "    }\n",
       "\n",
       "    .dataframe tbody tr th {\n",
       "        vertical-align: top;\n",
       "    }\n",
       "\n",
       "    .dataframe thead th {\n",
       "        text-align: right;\n",
       "    }\n",
       "</style>\n",
       "<table border=\"1\" class=\"dataframe\">\n",
       "  <thead>\n",
       "    <tr style=\"text-align: right;\">\n",
       "      <th></th>\n",
       "    </tr>\n",
       "  </thead>\n",
       "  <tbody>\n",
       "  </tbody>\n",
       "</table>\n",
       "</div>"
      ],
      "text/plain": [
       "Empty DataFrame\n",
       "Columns: []\n",
       "Index: []"
      ]
     },
     "execution_count": 41,
     "metadata": {},
     "output_type": "execute_result"
    }
   ],
   "source": [
    "df.corr()"
   ]
  },
  {
   "cell_type": "code",
   "execution_count": 42,
   "id": "3efb0671",
   "metadata": {},
   "outputs": [],
   "source": [
    "\n",
    "depended_x=pd.DataFrame(df['depended_x'])\n",
    "Cases=pd.DataFrame(df['Cases'])"
   ]
  },
  {
   "cell_type": "code",
   "execution_count": 43,
   "id": "6d50bdc7",
   "metadata": {},
   "outputs": [
    {
     "data": {
      "text/html": [
       "<div>\n",
       "<style scoped>\n",
       "    .dataframe tbody tr th:only-of-type {\n",
       "        vertical-align: middle;\n",
       "    }\n",
       "\n",
       "    .dataframe tbody tr th {\n",
       "        vertical-align: top;\n",
       "    }\n",
       "\n",
       "    .dataframe thead th {\n",
       "        text-align: right;\n",
       "    }\n",
       "</style>\n",
       "<table border=\"1\" class=\"dataframe\">\n",
       "  <thead>\n",
       "    <tr style=\"text-align: right;\">\n",
       "      <th></th>\n",
       "      <th>depended_x</th>\n",
       "    </tr>\n",
       "  </thead>\n",
       "  <tbody>\n",
       "    <tr>\n",
       "      <th>0</th>\n",
       "      <td>17</td>\n",
       "    </tr>\n",
       "    <tr>\n",
       "      <th>1</th>\n",
       "      <td>18</td>\n",
       "    </tr>\n",
       "    <tr>\n",
       "      <th>2</th>\n",
       "      <td>19</td>\n",
       "    </tr>\n",
       "    <tr>\n",
       "      <th>3</th>\n",
       "      <td>20</td>\n",
       "    </tr>\n",
       "  </tbody>\n",
       "</table>\n",
       "</div>"
      ],
      "text/plain": [
       "  depended_x\n",
       "0         17\n",
       "1         18\n",
       "2         19\n",
       "3         20"
      ]
     },
     "execution_count": 43,
     "metadata": {},
     "output_type": "execute_result"
    }
   ],
   "source": [
    "depended_x"
   ]
  },
  {
   "cell_type": "code",
   "execution_count": 44,
   "id": "7b9a1001",
   "metadata": {},
   "outputs": [],
   "source": [
    "lm= linear_model.LinearRegression()\n",
    "model=lm.fit(depended_x, Cases)\n"
   ]
  },
  {
   "cell_type": "code",
   "execution_count": 45,
   "id": "5f0c5df4",
   "metadata": {},
   "outputs": [
    {
     "data": {
      "text/plain": [
       "array([[-309.9]])"
      ]
     },
     "execution_count": 45,
     "metadata": {},
     "output_type": "execute_result"
    }
   ],
   "source": [
    "model.coef_"
   ]
  },
  {
   "cell_type": "code",
   "execution_count": 46,
   "id": "1e08e5d8",
   "metadata": {},
   "outputs": [
    {
     "data": {
      "text/plain": [
       "array([6723.9])"
      ]
     },
     "execution_count": 46,
     "metadata": {},
     "output_type": "execute_result"
    }
   ],
   "source": [
    "model.intercept_"
   ]
  },
  {
   "cell_type": "code",
   "execution_count": 47,
   "id": "a75b6067",
   "metadata": {},
   "outputs": [
    {
     "data": {
      "text/plain": [
       "0.8977583153502183"
      ]
     },
     "execution_count": 47,
     "metadata": {},
     "output_type": "execute_result"
    }
   ],
   "source": [
    "model.score(depended_x, Cases) #EVALUATE THE MODEL"
   ]
  },
  {
   "cell_type": "code",
   "execution_count": 51,
   "id": "0fc5a46e",
   "metadata": {},
   "outputs": [
    {
     "data": {
      "text/plain": [
       "array([[216.]])"
      ]
     },
     "execution_count": 51,
     "metadata": {},
     "output_type": "execute_result"
    }
   ],
   "source": [
    "#predict new value (Cases) for depended_x which is October\n",
    "Depended_new=21\n",
    "Cases_predict=model.predict([[Depended_new]])\n",
    "Cases_predict"
   ]
  },
  {
   "cell_type": "code",
   "execution_count": 50,
   "id": "20842dad",
   "metadata": {},
   "outputs": [
    {
     "data": {
      "text/plain": [
       "array([[-93.9]])"
      ]
     },
     "execution_count": 50,
     "metadata": {},
     "output_type": "execute_result"
    }
   ],
   "source": [
    "#predict new value (Cases) for depended_x which is November\n",
    "Depended_new=22\n",
    "Cases_predict=model.predict([[Depended_new]])\n",
    "Cases_predict"
   ]
  },
  {
   "cell_type": "code",
   "execution_count": null,
   "id": "5634bccc",
   "metadata": {},
   "outputs": [],
   "source": [
    "#Predict Covid Deaths in Ohangwena for October and November"
   ]
  },
  {
   "cell_type": "code",
   "execution_count": 52,
   "id": "1d7fb2f9",
   "metadata": {},
   "outputs": [],
   "source": [
    "import pandas as pd\n",
    "import matplotlib.pyplot as plt\n",
    "from sklearn import linear_model\n",
    "from collections import OrderedDict\n",
    "import pandas as df"
   ]
  },
  {
   "cell_type": "code",
   "execution_count": 53,
   "id": "e87835b2",
   "metadata": {},
   "outputs": [
    {
     "data": {
      "text/plain": [
       "(56, 4)"
      ]
     },
     "execution_count": 53,
     "metadata": {},
     "output_type": "execute_result"
    }
   ],
   "source": [
    "df = pd.read_csv(\"covidDataset.csv\")\n",
    "df.shape"
   ]
  },
  {
   "cell_type": "code",
   "execution_count": 407,
   "id": "660a8ded",
   "metadata": {},
   "outputs": [
    {
     "data": {
      "text/html": [
       "<div>\n",
       "<style scoped>\n",
       "    .dataframe tbody tr th:only-of-type {\n",
       "        vertical-align: middle;\n",
       "    }\n",
       "\n",
       "    .dataframe tbody tr th {\n",
       "        vertical-align: top;\n",
       "    }\n",
       "\n",
       "    .dataframe thead th {\n",
       "        text-align: right;\n",
       "    }\n",
       "</style>\n",
       "<table border=\"1\" class=\"dataframe\">\n",
       "  <thead>\n",
       "    <tr style=\"text-align: right;\">\n",
       "      <th></th>\n",
       "      <th>Months</th>\n",
       "      <th>Regions</th>\n",
       "      <th>Deaths</th>\n",
       "      <th>Cases</th>\n",
       "    </tr>\n",
       "  </thead>\n",
       "  <tbody>\n",
       "    <tr>\n",
       "      <th>0</th>\n",
       "      <td>June</td>\n",
       "      <td>Khomas</td>\n",
       "      <td>171.0</td>\n",
       "      <td>9046</td>\n",
       "    </tr>\n",
       "    <tr>\n",
       "      <th>1</th>\n",
       "      <td>June</td>\n",
       "      <td>Erongo</td>\n",
       "      <td>44.0</td>\n",
       "      <td>2939</td>\n",
       "    </tr>\n",
       "    <tr>\n",
       "      <th>2</th>\n",
       "      <td>June</td>\n",
       "      <td>Oshana</td>\n",
       "      <td>16.0</td>\n",
       "      <td>1234</td>\n",
       "    </tr>\n",
       "    <tr>\n",
       "      <th>3</th>\n",
       "      <td>June</td>\n",
       "      <td>Oshikoto</td>\n",
       "      <td>8.0</td>\n",
       "      <td>547</td>\n",
       "    </tr>\n",
       "    <tr>\n",
       "      <th>4</th>\n",
       "      <td>June</td>\n",
       "      <td>Hardap</td>\n",
       "      <td>3.0</td>\n",
       "      <td>1895</td>\n",
       "    </tr>\n",
       "    <tr>\n",
       "      <th>5</th>\n",
       "      <td>June</td>\n",
       "      <td>Omusati</td>\n",
       "      <td>108.0</td>\n",
       "      <td>1957</td>\n",
       "    </tr>\n",
       "    <tr>\n",
       "      <th>6</th>\n",
       "      <td>June</td>\n",
       "      <td>Otjozondjupa</td>\n",
       "      <td>92.0</td>\n",
       "      <td>2316</td>\n",
       "    </tr>\n",
       "    <tr>\n",
       "      <th>7</th>\n",
       "      <td>June</td>\n",
       "      <td>Omaheke</td>\n",
       "      <td>112.0</td>\n",
       "      <td>613</td>\n",
       "    </tr>\n",
       "    <tr>\n",
       "      <th>8</th>\n",
       "      <td>June</td>\n",
       "      <td>Zambezi</td>\n",
       "      <td>45.0</td>\n",
       "      <td>1330</td>\n",
       "    </tr>\n",
       "    <tr>\n",
       "      <th>9</th>\n",
       "      <td>June</td>\n",
       "      <td>Kavango-West</td>\n",
       "      <td>NaN</td>\n",
       "      <td>258</td>\n",
       "    </tr>\n",
       "    <tr>\n",
       "      <th>10</th>\n",
       "      <td>June</td>\n",
       "      <td>Kavango-East</td>\n",
       "      <td>115.0</td>\n",
       "      <td>1877</td>\n",
       "    </tr>\n",
       "    <tr>\n",
       "      <th>11</th>\n",
       "      <td>June</td>\n",
       "      <td>Ohangwena</td>\n",
       "      <td>38.0</td>\n",
       "      <td>1329</td>\n",
       "    </tr>\n",
       "    <tr>\n",
       "      <th>12</th>\n",
       "      <td>June</td>\n",
       "      <td>Kunene</td>\n",
       "      <td>37.0</td>\n",
       "      <td>1146</td>\n",
       "    </tr>\n",
       "    <tr>\n",
       "      <th>13</th>\n",
       "      <td>June</td>\n",
       "      <td>Karas</td>\n",
       "      <td>44.0</td>\n",
       "      <td>1749</td>\n",
       "    </tr>\n",
       "    <tr>\n",
       "      <th>14</th>\n",
       "      <td>July</td>\n",
       "      <td>Khomas</td>\n",
       "      <td>324.0</td>\n",
       "      <td>4971</td>\n",
       "    </tr>\n",
       "    <tr>\n",
       "      <th>15</th>\n",
       "      <td>July</td>\n",
       "      <td>Erongo</td>\n",
       "      <td>123.0</td>\n",
       "      <td>3567</td>\n",
       "    </tr>\n",
       "    <tr>\n",
       "      <th>16</th>\n",
       "      <td>July</td>\n",
       "      <td>Oshana</td>\n",
       "      <td>209.0</td>\n",
       "      <td>2787</td>\n",
       "    </tr>\n",
       "    <tr>\n",
       "      <th>17</th>\n",
       "      <td>July</td>\n",
       "      <td>Oshikoto</td>\n",
       "      <td>17.0</td>\n",
       "      <td>1942</td>\n",
       "    </tr>\n",
       "    <tr>\n",
       "      <th>18</th>\n",
       "      <td>July</td>\n",
       "      <td>Hardap</td>\n",
       "      <td>NaN</td>\n",
       "      <td>1136</td>\n",
       "    </tr>\n",
       "    <tr>\n",
       "      <th>19</th>\n",
       "      <td>July</td>\n",
       "      <td>Omusati</td>\n",
       "      <td>108.0</td>\n",
       "      <td>1957</td>\n",
       "    </tr>\n",
       "    <tr>\n",
       "      <th>20</th>\n",
       "      <td>July</td>\n",
       "      <td>Otjozondjupa</td>\n",
       "      <td>92.0</td>\n",
       "      <td>2316</td>\n",
       "    </tr>\n",
       "    <tr>\n",
       "      <th>21</th>\n",
       "      <td>July</td>\n",
       "      <td>Omaheke</td>\n",
       "      <td>112.0</td>\n",
       "      <td>613</td>\n",
       "    </tr>\n",
       "    <tr>\n",
       "      <th>22</th>\n",
       "      <td>July</td>\n",
       "      <td>Zambezi</td>\n",
       "      <td>45.0</td>\n",
       "      <td>1330</td>\n",
       "    </tr>\n",
       "    <tr>\n",
       "      <th>23</th>\n",
       "      <td>July</td>\n",
       "      <td>Kavango-West</td>\n",
       "      <td>NaN</td>\n",
       "      <td>258</td>\n",
       "    </tr>\n",
       "    <tr>\n",
       "      <th>24</th>\n",
       "      <td>July</td>\n",
       "      <td>Kavango-East</td>\n",
       "      <td>115.0</td>\n",
       "      <td>1877</td>\n",
       "    </tr>\n",
       "    <tr>\n",
       "      <th>25</th>\n",
       "      <td>July</td>\n",
       "      <td>Ohangwena</td>\n",
       "      <td>38.0</td>\n",
       "      <td>1329</td>\n",
       "    </tr>\n",
       "    <tr>\n",
       "      <th>26</th>\n",
       "      <td>July</td>\n",
       "      <td>Kunene</td>\n",
       "      <td>37.0</td>\n",
       "      <td>1146</td>\n",
       "    </tr>\n",
       "    <tr>\n",
       "      <th>27</th>\n",
       "      <td>July</td>\n",
       "      <td>Karas</td>\n",
       "      <td>44.0</td>\n",
       "      <td>1749</td>\n",
       "    </tr>\n",
       "    <tr>\n",
       "      <th>28</th>\n",
       "      <td>August</td>\n",
       "      <td>Khomas</td>\n",
       "      <td>44.0</td>\n",
       "      <td>590</td>\n",
       "    </tr>\n",
       "    <tr>\n",
       "      <th>29</th>\n",
       "      <td>August</td>\n",
       "      <td>Erongo</td>\n",
       "      <td>22.0</td>\n",
       "      <td>618</td>\n",
       "    </tr>\n",
       "    <tr>\n",
       "      <th>30</th>\n",
       "      <td>August</td>\n",
       "      <td>Oshana</td>\n",
       "      <td>46.0</td>\n",
       "      <td>718</td>\n",
       "    </tr>\n",
       "    <tr>\n",
       "      <th>31</th>\n",
       "      <td>August</td>\n",
       "      <td>Oshikoto</td>\n",
       "      <td>5.0</td>\n",
       "      <td>478</td>\n",
       "    </tr>\n",
       "    <tr>\n",
       "      <th>32</th>\n",
       "      <td>August</td>\n",
       "      <td>Hardap</td>\n",
       "      <td>9.0</td>\n",
       "      <td>130</td>\n",
       "    </tr>\n",
       "    <tr>\n",
       "      <th>33</th>\n",
       "      <td>August</td>\n",
       "      <td>Omusati</td>\n",
       "      <td>65.0</td>\n",
       "      <td>760</td>\n",
       "    </tr>\n",
       "    <tr>\n",
       "      <th>34</th>\n",
       "      <td>August</td>\n",
       "      <td>Otjozondjupa</td>\n",
       "      <td>9.0</td>\n",
       "      <td>346</td>\n",
       "    </tr>\n",
       "    <tr>\n",
       "      <th>35</th>\n",
       "      <td>August</td>\n",
       "      <td>Omaheke</td>\n",
       "      <td>13.0</td>\n",
       "      <td>362</td>\n",
       "    </tr>\n",
       "    <tr>\n",
       "      <th>36</th>\n",
       "      <td>August</td>\n",
       "      <td>Zambezi</td>\n",
       "      <td>23.0</td>\n",
       "      <td>233</td>\n",
       "    </tr>\n",
       "    <tr>\n",
       "      <th>37</th>\n",
       "      <td>August</td>\n",
       "      <td>Kavango-West</td>\n",
       "      <td>9.0</td>\n",
       "      <td>36</td>\n",
       "    </tr>\n",
       "    <tr>\n",
       "      <th>38</th>\n",
       "      <td>August</td>\n",
       "      <td>Kavango-East</td>\n",
       "      <td>12.0</td>\n",
       "      <td>88</td>\n",
       "    </tr>\n",
       "    <tr>\n",
       "      <th>39</th>\n",
       "      <td>August</td>\n",
       "      <td>Ohangwena</td>\n",
       "      <td>39.0</td>\n",
       "      <td>849</td>\n",
       "    </tr>\n",
       "    <tr>\n",
       "      <th>40</th>\n",
       "      <td>August</td>\n",
       "      <td>Kunene</td>\n",
       "      <td>29.0</td>\n",
       "      <td>211</td>\n",
       "    </tr>\n",
       "    <tr>\n",
       "      <th>41</th>\n",
       "      <td>August</td>\n",
       "      <td>Karas</td>\n",
       "      <td>2.0</td>\n",
       "      <td>434</td>\n",
       "    </tr>\n",
       "    <tr>\n",
       "      <th>42</th>\n",
       "      <td>September</td>\n",
       "      <td>Khomas</td>\n",
       "      <td>10.0</td>\n",
       "      <td>319</td>\n",
       "    </tr>\n",
       "    <tr>\n",
       "      <th>43</th>\n",
       "      <td>September</td>\n",
       "      <td>Erongo</td>\n",
       "      <td>5.0</td>\n",
       "      <td>174</td>\n",
       "    </tr>\n",
       "    <tr>\n",
       "      <th>44</th>\n",
       "      <td>September</td>\n",
       "      <td>Oshana</td>\n",
       "      <td>6.0</td>\n",
       "      <td>223</td>\n",
       "    </tr>\n",
       "    <tr>\n",
       "      <th>45</th>\n",
       "      <td>September</td>\n",
       "      <td>Oshikoto</td>\n",
       "      <td>6.0</td>\n",
       "      <td>43</td>\n",
       "    </tr>\n",
       "    <tr>\n",
       "      <th>46</th>\n",
       "      <td>September</td>\n",
       "      <td>Hardap</td>\n",
       "      <td>1.0</td>\n",
       "      <td>54</td>\n",
       "    </tr>\n",
       "    <tr>\n",
       "      <th>47</th>\n",
       "      <td>September</td>\n",
       "      <td>Omusati</td>\n",
       "      <td>15.0</td>\n",
       "      <td>99</td>\n",
       "    </tr>\n",
       "    <tr>\n",
       "      <th>48</th>\n",
       "      <td>September</td>\n",
       "      <td>Otjozondjupa</td>\n",
       "      <td>NaN</td>\n",
       "      <td>92</td>\n",
       "    </tr>\n",
       "    <tr>\n",
       "      <th>49</th>\n",
       "      <td>September</td>\n",
       "      <td>Omaheke</td>\n",
       "      <td>2.0</td>\n",
       "      <td>37</td>\n",
       "    </tr>\n",
       "    <tr>\n",
       "      <th>50</th>\n",
       "      <td>September</td>\n",
       "      <td>Zambezi</td>\n",
       "      <td>2.0</td>\n",
       "      <td>162</td>\n",
       "    </tr>\n",
       "    <tr>\n",
       "      <th>51</th>\n",
       "      <td>September</td>\n",
       "      <td>Kavango-West</td>\n",
       "      <td>NaN</td>\n",
       "      <td>125</td>\n",
       "    </tr>\n",
       "    <tr>\n",
       "      <th>52</th>\n",
       "      <td>September</td>\n",
       "      <td>Kavango-East</td>\n",
       "      <td>16.0</td>\n",
       "      <td>161</td>\n",
       "    </tr>\n",
       "    <tr>\n",
       "      <th>53</th>\n",
       "      <td>September</td>\n",
       "      <td>Ohangwena</td>\n",
       "      <td>15.0</td>\n",
       "      <td>456</td>\n",
       "    </tr>\n",
       "    <tr>\n",
       "      <th>54</th>\n",
       "      <td>September</td>\n",
       "      <td>Kunene</td>\n",
       "      <td>14.0</td>\n",
       "      <td>58</td>\n",
       "    </tr>\n",
       "    <tr>\n",
       "      <th>55</th>\n",
       "      <td>September</td>\n",
       "      <td>Karas</td>\n",
       "      <td>4.0</td>\n",
       "      <td>174</td>\n",
       "    </tr>\n",
       "  </tbody>\n",
       "</table>\n",
       "</div>"
      ],
      "text/plain": [
       "       Months       Regions  Deaths  Cases\n",
       "0        June        Khomas   171.0   9046\n",
       "1        June        Erongo    44.0   2939\n",
       "2        June        Oshana    16.0   1234\n",
       "3        June      Oshikoto     8.0    547\n",
       "4        June        Hardap     3.0   1895\n",
       "5        June       Omusati   108.0   1957\n",
       "6        June  Otjozondjupa    92.0   2316\n",
       "7        June       Omaheke   112.0    613\n",
       "8        June       Zambezi    45.0   1330\n",
       "9        June  Kavango-West     NaN    258\n",
       "10       June  Kavango-East   115.0   1877\n",
       "11       June     Ohangwena    38.0   1329\n",
       "12       June        Kunene    37.0   1146\n",
       "13       June         Karas    44.0   1749\n",
       "14       July        Khomas   324.0   4971\n",
       "15       July        Erongo   123.0   3567\n",
       "16       July        Oshana   209.0   2787\n",
       "17       July      Oshikoto    17.0   1942\n",
       "18       July        Hardap     NaN   1136\n",
       "19       July       Omusati   108.0   1957\n",
       "20       July  Otjozondjupa    92.0   2316\n",
       "21       July       Omaheke   112.0    613\n",
       "22       July       Zambezi    45.0   1330\n",
       "23       July  Kavango-West     NaN    258\n",
       "24       July  Kavango-East   115.0   1877\n",
       "25       July     Ohangwena    38.0   1329\n",
       "26       July        Kunene    37.0   1146\n",
       "27       July         Karas    44.0   1749\n",
       "28     August        Khomas    44.0    590\n",
       "29     August        Erongo    22.0    618\n",
       "30     August        Oshana    46.0    718\n",
       "31     August      Oshikoto     5.0    478\n",
       "32     August        Hardap     9.0    130\n",
       "33     August       Omusati    65.0    760\n",
       "34     August  Otjozondjupa     9.0    346\n",
       "35     August       Omaheke    13.0    362\n",
       "36     August       Zambezi    23.0    233\n",
       "37     August  Kavango-West     9.0     36\n",
       "38     August  Kavango-East    12.0     88\n",
       "39     August     Ohangwena    39.0    849\n",
       "40     August        Kunene    29.0    211\n",
       "41     August         Karas     2.0    434\n",
       "42  September        Khomas    10.0    319\n",
       "43  September        Erongo     5.0    174\n",
       "44  September        Oshana     6.0    223\n",
       "45  September      Oshikoto     6.0     43\n",
       "46  September        Hardap     1.0     54\n",
       "47  September       Omusati    15.0     99\n",
       "48  September  Otjozondjupa     NaN     92\n",
       "49  September       Omaheke     2.0     37\n",
       "50  September       Zambezi     2.0    162\n",
       "51  September  Kavango-West     NaN    125\n",
       "52  September  Kavango-East    16.0    161\n",
       "53  September     Ohangwena    15.0    456\n",
       "54  September        Kunene    14.0     58\n",
       "55  September         Karas     4.0    174"
      ]
     },
     "execution_count": 407,
     "metadata": {},
     "output_type": "execute_result"
    }
   ],
   "source": [
    "df.head(59)"
   ]
  },
  {
   "cell_type": "code",
   "execution_count": 54,
   "id": "bed1cfaa",
   "metadata": {},
   "outputs": [],
   "source": [
    "df.drop (columns=['Cases'], inplace=True)"
   ]
  },
  {
   "cell_type": "code",
   "execution_count": 55,
   "id": "fb91784f",
   "metadata": {},
   "outputs": [],
   "source": [
    "filt = df['Regions'] == 'Khomas'\n",
    "df.drop(index=df[filt].index, inplace=True)"
   ]
  },
  {
   "cell_type": "code",
   "execution_count": 56,
   "id": "54a10e6f",
   "metadata": {},
   "outputs": [],
   "source": [
    "filt = df['Regions'] == 'Oshikoto'\n",
    "df.drop(index=df[filt].index, inplace=True)\n"
   ]
  },
  {
   "cell_type": "code",
   "execution_count": 57,
   "id": "9ee8c34b",
   "metadata": {},
   "outputs": [],
   "source": [
    "filt = df['Regions'] == 'Karas'\n",
    "df.drop(index=df[filt].index, inplace=True)"
   ]
  },
  {
   "cell_type": "code",
   "execution_count": 58,
   "id": "d2f514b9",
   "metadata": {},
   "outputs": [],
   "source": [
    "filt = df['Regions'] == 'Omusati'\n",
    "df.drop(index=df[filt].index, inplace=True)"
   ]
  },
  {
   "cell_type": "code",
   "execution_count": 59,
   "id": "32e4aa34",
   "metadata": {},
   "outputs": [],
   "source": [
    "filt = df['Regions'] == 'Otjozondjupa'\n",
    "df.drop(index=df[filt].index, inplace=True)"
   ]
  },
  {
   "cell_type": "code",
   "execution_count": 60,
   "id": "d22a97a8",
   "metadata": {},
   "outputs": [],
   "source": [
    "filt = df['Regions'] == 'Omaheke'\n",
    "df.drop(index=df[filt].index, inplace=True)"
   ]
  },
  {
   "cell_type": "code",
   "execution_count": 68,
   "id": "f8aa8fd0",
   "metadata": {},
   "outputs": [],
   "source": [
    "filt = df['Regions'] == 'Zambezi'\n",
    "df.drop(index=df[filt].index, inplace=True)"
   ]
  },
  {
   "cell_type": "code",
   "execution_count": 61,
   "id": "f2af62c1",
   "metadata": {},
   "outputs": [],
   "source": [
    "filt = df['Regions'] == 'Kavango-West'\n",
    "df.drop(index=df[filt].index, inplace=True)"
   ]
  },
  {
   "cell_type": "code",
   "execution_count": 62,
   "id": "8ed0aa8f",
   "metadata": {},
   "outputs": [],
   "source": [
    "filt = df['Regions'] == 'Kavango-East'\n",
    "df.drop(index=df[filt].index, inplace=True)\n"
   ]
  },
  {
   "cell_type": "code",
   "execution_count": 67,
   "id": "2e4f5ae2",
   "metadata": {},
   "outputs": [],
   "source": [
    "filt = df['Regions'] == 'Kunene'\n",
    "df.drop(index=df[filt].index, inplace=True)"
   ]
  },
  {
   "cell_type": "code",
   "execution_count": 63,
   "id": "962b68be",
   "metadata": {},
   "outputs": [],
   "source": [
    "filt = df['Regions'] == 'Hardap'\n",
    "df.drop(index=df[filt].index, inplace=True)"
   ]
  },
  {
   "cell_type": "code",
   "execution_count": 64,
   "id": "eb7455a0",
   "metadata": {},
   "outputs": [],
   "source": [
    "filt = df['Regions'] == 'Oshana'\n",
    "df.drop(index=df[filt].index, inplace=True)"
   ]
  },
  {
   "cell_type": "code",
   "execution_count": 65,
   "id": "047d26a0",
   "metadata": {},
   "outputs": [],
   "source": [
    "filt = df['Regions'] == 'Erongo'\n",
    "df.drop(index=df[filt].index, inplace=True)"
   ]
  },
  {
   "cell_type": "code",
   "execution_count": 69,
   "id": "1e3b435b",
   "metadata": {},
   "outputs": [
    {
     "data": {
      "text/html": [
       "<div>\n",
       "<style scoped>\n",
       "    .dataframe tbody tr th:only-of-type {\n",
       "        vertical-align: middle;\n",
       "    }\n",
       "\n",
       "    .dataframe tbody tr th {\n",
       "        vertical-align: top;\n",
       "    }\n",
       "\n",
       "    .dataframe thead th {\n",
       "        text-align: right;\n",
       "    }\n",
       "</style>\n",
       "<table border=\"1\" class=\"dataframe\">\n",
       "  <thead>\n",
       "    <tr style=\"text-align: right;\">\n",
       "      <th></th>\n",
       "      <th>Months</th>\n",
       "      <th>Regions</th>\n",
       "      <th>Deaths</th>\n",
       "    </tr>\n",
       "  </thead>\n",
       "  <tbody>\n",
       "    <tr>\n",
       "      <th>11</th>\n",
       "      <td>June</td>\n",
       "      <td>Ohangwena</td>\n",
       "      <td>38.0</td>\n",
       "    </tr>\n",
       "    <tr>\n",
       "      <th>25</th>\n",
       "      <td>July</td>\n",
       "      <td>Ohangwena</td>\n",
       "      <td>38.0</td>\n",
       "    </tr>\n",
       "    <tr>\n",
       "      <th>39</th>\n",
       "      <td>August</td>\n",
       "      <td>Ohangwena</td>\n",
       "      <td>39.0</td>\n",
       "    </tr>\n",
       "    <tr>\n",
       "      <th>53</th>\n",
       "      <td>September</td>\n",
       "      <td>Ohangwena</td>\n",
       "      <td>15.0</td>\n",
       "    </tr>\n",
       "  </tbody>\n",
       "</table>\n",
       "</div>"
      ],
      "text/plain": [
       "       Months    Regions  Deaths\n",
       "11       June  Ohangwena    38.0\n",
       "25       July  Ohangwena    38.0\n",
       "39     August  Ohangwena    39.0\n",
       "53  September  Ohangwena    15.0"
      ]
     },
     "execution_count": 69,
     "metadata": {},
     "output_type": "execute_result"
    }
   ],
   "source": [
    "df"
   ]
  },
  {
   "cell_type": "code",
   "execution_count": 70,
   "id": "7308f0e2",
   "metadata": {
    "scrolled": true
   },
   "outputs": [
    {
     "data": {
      "text/html": [
       "<div>\n",
       "<style scoped>\n",
       "    .dataframe tbody tr th:only-of-type {\n",
       "        vertical-align: middle;\n",
       "    }\n",
       "\n",
       "    .dataframe tbody tr th {\n",
       "        vertical-align: top;\n",
       "    }\n",
       "\n",
       "    .dataframe thead th {\n",
       "        text-align: right;\n",
       "    }\n",
       "</style>\n",
       "<table border=\"1\" class=\"dataframe\">\n",
       "  <thead>\n",
       "    <tr style=\"text-align: right;\">\n",
       "      <th></th>\n",
       "      <th>Deaths</th>\n",
       "    </tr>\n",
       "  </thead>\n",
       "  <tbody>\n",
       "    <tr>\n",
       "      <th>11</th>\n",
       "      <td>38.0</td>\n",
       "    </tr>\n",
       "    <tr>\n",
       "      <th>25</th>\n",
       "      <td>38.0</td>\n",
       "    </tr>\n",
       "    <tr>\n",
       "      <th>39</th>\n",
       "      <td>39.0</td>\n",
       "    </tr>\n",
       "    <tr>\n",
       "      <th>53</th>\n",
       "      <td>15.0</td>\n",
       "    </tr>\n",
       "  </tbody>\n",
       "</table>\n",
       "</div>"
      ],
      "text/plain": [
       "    Deaths\n",
       "11    38.0\n",
       "25    38.0\n",
       "39    39.0\n",
       "53    15.0"
      ]
     },
     "execution_count": 70,
     "metadata": {},
     "output_type": "execute_result"
    }
   ],
   "source": [
    "df.drop(columns=['Months','Regions'])\n"
   ]
  },
  {
   "cell_type": "code",
   "execution_count": 71,
   "id": "0412e4ab",
   "metadata": {},
   "outputs": [
    {
     "data": {
      "text/html": [
       "<div>\n",
       "<style scoped>\n",
       "    .dataframe tbody tr th:only-of-type {\n",
       "        vertical-align: middle;\n",
       "    }\n",
       "\n",
       "    .dataframe tbody tr th {\n",
       "        vertical-align: top;\n",
       "    }\n",
       "\n",
       "    .dataframe thead th {\n",
       "        text-align: right;\n",
       "    }\n",
       "</style>\n",
       "<table border=\"1\" class=\"dataframe\">\n",
       "  <thead>\n",
       "    <tr style=\"text-align: right;\">\n",
       "      <th></th>\n",
       "      <th>Deaths</th>\n",
       "    </tr>\n",
       "  </thead>\n",
       "  <tbody>\n",
       "    <tr>\n",
       "      <th>0</th>\n",
       "      <td>38</td>\n",
       "    </tr>\n",
       "    <tr>\n",
       "      <th>1</th>\n",
       "      <td>38</td>\n",
       "    </tr>\n",
       "    <tr>\n",
       "      <th>2</th>\n",
       "      <td>39</td>\n",
       "    </tr>\n",
       "    <tr>\n",
       "      <th>3</th>\n",
       "      <td>15</td>\n",
       "    </tr>\n",
       "  </tbody>\n",
       "</table>\n",
       "</div>"
      ],
      "text/plain": [
       "  Deaths\n",
       "0     38\n",
       "1     38\n",
       "2     39\n",
       "3     15"
      ]
     },
     "execution_count": 71,
     "metadata": {},
     "output_type": "execute_result"
    }
   ],
   "source": [
    "import pandas as pd\n",
    "import matplotlib.pyplot as plt\n",
    "from sklearn import linear_model\n",
    "\n",
    "data = {'Deaths':['38','38','39','15']}\n",
    "\n",
    "df =pd.DataFrame(data)\n",
    "df"
   ]
  },
  {
   "cell_type": "code",
   "execution_count": 72,
   "id": "02f38262",
   "metadata": {},
   "outputs": [],
   "source": [
    "depended_x = ['17','18','19','20']\n",
    "df['depended_x']= depended_x"
   ]
  },
  {
   "cell_type": "code",
   "execution_count": 73,
   "id": "542083b6",
   "metadata": {},
   "outputs": [
    {
     "data": {
      "text/html": [
       "<div>\n",
       "<style scoped>\n",
       "    .dataframe tbody tr th:only-of-type {\n",
       "        vertical-align: middle;\n",
       "    }\n",
       "\n",
       "    .dataframe tbody tr th {\n",
       "        vertical-align: top;\n",
       "    }\n",
       "\n",
       "    .dataframe thead th {\n",
       "        text-align: right;\n",
       "    }\n",
       "</style>\n",
       "<table border=\"1\" class=\"dataframe\">\n",
       "  <thead>\n",
       "    <tr style=\"text-align: right;\">\n",
       "      <th></th>\n",
       "      <th>Deaths</th>\n",
       "      <th>depended_x</th>\n",
       "    </tr>\n",
       "  </thead>\n",
       "  <tbody>\n",
       "    <tr>\n",
       "      <th>0</th>\n",
       "      <td>38</td>\n",
       "      <td>17</td>\n",
       "    </tr>\n",
       "    <tr>\n",
       "      <th>1</th>\n",
       "      <td>38</td>\n",
       "      <td>18</td>\n",
       "    </tr>\n",
       "    <tr>\n",
       "      <th>2</th>\n",
       "      <td>39</td>\n",
       "      <td>19</td>\n",
       "    </tr>\n",
       "    <tr>\n",
       "      <th>3</th>\n",
       "      <td>15</td>\n",
       "      <td>20</td>\n",
       "    </tr>\n",
       "  </tbody>\n",
       "</table>\n",
       "</div>"
      ],
      "text/plain": [
       "  Deaths depended_x\n",
       "0     38         17\n",
       "1     38         18\n",
       "2     39         19\n",
       "3     15         20"
      ]
     },
     "execution_count": 73,
     "metadata": {},
     "output_type": "execute_result"
    }
   ],
   "source": [
    "df"
   ]
  },
  {
   "cell_type": "code",
   "execution_count": 74,
   "id": "60728506",
   "metadata": {},
   "outputs": [
    {
     "data": {
      "text/plain": [
       "(4, 2)"
      ]
     },
     "execution_count": 74,
     "metadata": {},
     "output_type": "execute_result"
    }
   ],
   "source": [
    "df.shape"
   ]
  },
  {
   "cell_type": "code",
   "execution_count": 83,
   "id": "6f22e090",
   "metadata": {
    "scrolled": true
   },
   "outputs": [
    {
     "data": {
      "image/png": "[encoded data removed]",
      "text/plain": [
       "<Figure size 432x288 with 1 Axes>"
      ]
     },
     "metadata": {
      "needs_background": "light"
     },
     "output_type": "display_data"
    }
   ],
   "source": [
    "import matplotlib.pyplot as plt\n",
    "df.plot(kind='scatter', x='depended_x', y='Deaths')\n",
    "plt.show()"
   ]
  },
  {
   "cell_type": "code",
   "execution_count": 91,
   "id": "578bdbbf",
   "metadata": {},
   "outputs": [
    {
     "data": {
      "text/html": [
       "<div>\n",
       "<style scoped>\n",
       "    .dataframe tbody tr th:only-of-type {\n",
       "        vertical-align: middle;\n",
       "    }\n",
       "\n",
       "    .dataframe tbody tr th {\n",
       "        vertical-align: top;\n",
       "    }\n",
       "\n",
       "    .dataframe thead th {\n",
       "        text-align: right;\n",
       "    }\n",
       "</style>\n",
       "<table border=\"1\" class=\"dataframe\">\n",
       "  <thead>\n",
       "    <tr style=\"text-align: right;\">\n",
       "      <th></th>\n",
       "    </tr>\n",
       "  </thead>\n",
       "  <tbody>\n",
       "  </tbody>\n",
       "</table>\n",
       "</div>"
      ],
      "text/plain": [
       "Empty DataFrame\n",
       "Columns: []\n",
       "Index: []"
      ]
     },
     "execution_count": 91,
     "metadata": {},
     "output_type": "execute_result"
    }
   ],
   "source": [
    "\n",
    "df.corr()\n"
   ]
  },
  {
   "cell_type": "code",
   "execution_count": 96,
   "id": "8982740f",
   "metadata": {},
   "outputs": [],
   "source": [
    "depended_x=pd.DataFrame(df['depended_x'])\n",
    "Deaths=pd.DataFrame(df['Deaths'])"
   ]
  },
  {
   "cell_type": "code",
   "execution_count": 97,
   "id": "00558d37",
   "metadata": {},
   "outputs": [
    {
     "data": {
      "text/html": [
       "<div>\n",
       "<style scoped>\n",
       "    .dataframe tbody tr th:only-of-type {\n",
       "        vertical-align: middle;\n",
       "    }\n",
       "\n",
       "    .dataframe tbody tr th {\n",
       "        vertical-align: top;\n",
       "    }\n",
       "\n",
       "    .dataframe thead th {\n",
       "        text-align: right;\n",
       "    }\n",
       "</style>\n",
       "<table border=\"1\" class=\"dataframe\">\n",
       "  <thead>\n",
       "    <tr style=\"text-align: right;\">\n",
       "      <th></th>\n",
       "      <th>depended_x</th>\n",
       "    </tr>\n",
       "  </thead>\n",
       "  <tbody>\n",
       "    <tr>\n",
       "      <th>0</th>\n",
       "      <td>17</td>\n",
       "    </tr>\n",
       "    <tr>\n",
       "      <th>1</th>\n",
       "      <td>18</td>\n",
       "    </tr>\n",
       "    <tr>\n",
       "      <th>2</th>\n",
       "      <td>19</td>\n",
       "    </tr>\n",
       "    <tr>\n",
       "      <th>3</th>\n",
       "      <td>20</td>\n",
       "    </tr>\n",
       "  </tbody>\n",
       "</table>\n",
       "</div>"
      ],
      "text/plain": [
       "  depended_x\n",
       "0         17\n",
       "1         18\n",
       "2         19\n",
       "3         20"
      ]
     },
     "execution_count": 97,
     "metadata": {},
     "output_type": "execute_result"
    }
   ],
   "source": [
    "depended_x"
   ]
  },
  {
   "cell_type": "code",
   "execution_count": 98,
   "id": "182aa113",
   "metadata": {},
   "outputs": [],
   "source": [
    "lm= linear_model.LinearRegression()\n",
    "model=lm.fit(depended_x, Deaths)"
   ]
  },
  {
   "cell_type": "code",
   "execution_count": 88,
   "id": "a76c500b",
   "metadata": {},
   "outputs": [
    {
     "data": {
      "text/plain": [
       "array([[-309.9]])"
      ]
     },
     "execution_count": 88,
     "metadata": {},
     "output_type": "execute_result"
    }
   ],
   "source": [
    "model.coef_"
   ]
  },
  {
   "cell_type": "code",
   "execution_count": 89,
   "id": "5bbee609",
   "metadata": {},
   "outputs": [
    {
     "data": {
      "text/plain": [
       "array([6723.9])"
      ]
     },
     "execution_count": 89,
     "metadata": {},
     "output_type": "execute_result"
    }
   ],
   "source": [
    "model.intercept_"
   ]
  },
  {
   "cell_type": "code",
   "execution_count": 99,
   "id": "8df30c7d",
   "metadata": {},
   "outputs": [
    {
     "data": {
      "text/plain": [
       "0.5652811735941324"
      ]
     },
     "execution_count": 99,
     "metadata": {},
     "output_type": "execute_result"
    }
   ],
   "source": [
    "model.score(depended_x, Deaths) #EVALUATE THE MODEL"
   ]
  },
  {
   "cell_type": "code",
   "execution_count": 100,
   "id": "de4d7454",
   "metadata": {},
   "outputs": [
    {
     "data": {
      "text/plain": [
       "array([[15.5]])"
      ]
     },
     "execution_count": 100,
     "metadata": {},
     "output_type": "execute_result"
    }
   ],
   "source": [
    "#Predict death for October Month \n",
    "Depended_new=21\n",
    "Cases_predict=model.predict([[Depended_new]])\n",
    "Cases_predict"
   ]
  },
  {
   "cell_type": "code",
   "execution_count": 101,
   "id": "2a6f1a40",
   "metadata": {},
   "outputs": [
    {
     "data": {
      "text/plain": [
       "array([[8.7]])"
      ]
     },
     "execution_count": 101,
     "metadata": {},
     "output_type": "execute_result"
    }
   ],
   "source": [
    "#Predict death for November Month \n",
    "Depended_new=22\n",
    "Cases_predict=model.predict([[Depended_new]])\n",
    "Cases_predict"
   ]
  },
  {
   "cell_type": "code",
   "execution_count": null,
   "id": "bc83aa54",
   "metadata": {},
   "outputs": [],
   "source": []
  }
 ],
 "metadata": {
  "kernelspec": {
   "display_name": "Python 3",
   "language": "python",
   "name": "python3"
  },
  "language_info": {
   "codemirror_mode": {
    "name": "ipython",
    "version": 3
   },
   "file_extension": ".py",
   "mimetype": "text/x-python",
   "name": "python",
   "nbconvert_exporter": "python",
   "pygments_lexer": "ipython3",
   "version": "3.8.8"
  }
 },
 "nbformat": 4,
 "nbformat_minor": 5
}
